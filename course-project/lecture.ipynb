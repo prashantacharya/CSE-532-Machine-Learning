{
 "cells": [
  {
   "cell_type": "code",
   "execution_count": 49,
   "id": "d2004937-d545-453e-9f65-e3d0df17b57c",
   "metadata": {},
   "outputs": [],
   "source": [
    "import numpy as np\n",
    "import pandas as pd\n",
    "import matplotlib.pyplot as plt\n",
    "import glob\n",
    "import os\n",
    "import re"
   ]
  },
  {
   "cell_type": "code",
   "execution_count": 27,
   "id": "73a143d0-32a6-4632-b6b7-8dfeec1d9708",
   "metadata": {},
   "outputs": [
    {
     "name": "stdout",
     "output_type": "stream",
     "text": [
      "848\n"
     ]
    }
   ],
   "source": [
    "filelist = glob.glob(\"dataset/User*/*.csv\")\n",
    "\n",
    "print(len(filelist))"
   ]
  },
  {
   "cell_type": "code",
   "execution_count": 28,
   "id": "69ae9648-45e8-4878-b006-e60cb9ea77c7",
   "metadata": {},
   "outputs": [
    {
     "name": "stdout",
     "output_type": "stream",
     "text": [
      "['dataset/User22/272_Werable1_2020-11-07T10.25.22.955_F1E55E2FE95F_Pressure_7.330Hz_1.5.0.csv', 'dataset/User22/277_Werable1_2020-11-07T10.58.42.895_F1E55E2FE95F_Accelerometer_100.000Hz_1.5.0.csv', 'dataset/User22/273_Werable1_2020-11-07T10.29.47.662_F1E55E2FE95F_Accelerometer_100.000Hz_1.5.0.csv', 'dataset/User22/280_Werable1_2020-11-07T10.44.47.493_F1E55E2FE95F_Gyroscope_100.000Hz_1.5.0.csv', 'dataset/User22/276_Werable1_2020-11-07T10.55.27.209_F1E55E2FE95F_Accelerometer_100.000Hz_1.5.0.csv', 'dataset/User22/270_Werable1_2020-11-07T10.17.08.139_F1E55E2FE95F_Accelerometer_100.000Hz_1.5.0.csv', 'dataset/User22/268_Werable1_2020-11-07T10.07.24.833_F1E55E2FE95F_Magnetometer_20.000Hz_1.5.0.csv', 'dataset/User22/271_Werable1_2020-11-07T10.21.01.512_F1E55E2FE95F_Accelerometer_100.000Hz_1.5.0.csv', 'dataset/User22/271_Werable1_2020-11-07T10.21.01.512_F1E55E2FE95F_Pressure_7.330Hz_1.5.0.csv', 'dataset/User22/269_Werable1_2020-11-07T10.13.21.344_F1E55E2FE95F_Pressure_7.330Hz_1.5.0.csv']\n"
     ]
    }
   ],
   "source": [
    "print(filelist[:10])"
   ]
  },
  {
   "cell_type": "code",
   "execution_count": 29,
   "id": "865ddacd-773b-49a5-8879-3e067a27360c",
   "metadata": {},
   "outputs": [
    {
     "name": "stdout",
     "output_type": "stream",
     "text": [
      "272_Werable1_2020-11-07T10.25.22.955_F1E55E2FE95F_Pressure_7.330Hz_1.5.0.csv\n"
     ]
    }
   ],
   "source": [
    "print(filelist[0].split(\"/\")[-1])"
   ]
  },
  {
   "cell_type": "code",
   "execution_count": 30,
   "id": "08583da5-2aa9-4ca3-91f0-d6df20f11270",
   "metadata": {},
   "outputs": [],
   "source": [
    "df = pd.DataFrame.from_dict(filelist)"
   ]
  },
  {
   "cell_type": "code",
   "execution_count": 32,
   "id": "0f2148f7-e4db-4882-b566-084fbcfcb5e5",
   "metadata": {},
   "outputs": [
    {
     "data": {
      "text/html": [
       "<div>\n",
       "<style scoped>\n",
       "    .dataframe tbody tr th:only-of-type {\n",
       "        vertical-align: middle;\n",
       "    }\n",
       "\n",
       "    .dataframe tbody tr th {\n",
       "        vertical-align: top;\n",
       "    }\n",
       "\n",
       "    .dataframe thead th {\n",
       "        text-align: right;\n",
       "    }\n",
       "</style>\n",
       "<table border=\"1\" class=\"dataframe\">\n",
       "  <thead>\n",
       "    <tr style=\"text-align: right;\">\n",
       "      <th></th>\n",
       "      <th>full_path</th>\n",
       "    </tr>\n",
       "  </thead>\n",
       "  <tbody>\n",
       "    <tr>\n",
       "      <th>0</th>\n",
       "      <td>dataset/User22/272_Werable1_2020-11-07T10.25.2...</td>\n",
       "    </tr>\n",
       "    <tr>\n",
       "      <th>1</th>\n",
       "      <td>dataset/User22/277_Werable1_2020-11-07T10.58.4...</td>\n",
       "    </tr>\n",
       "    <tr>\n",
       "      <th>2</th>\n",
       "      <td>dataset/User22/273_Werable1_2020-11-07T10.29.4...</td>\n",
       "    </tr>\n",
       "    <tr>\n",
       "      <th>3</th>\n",
       "      <td>dataset/User22/280_Werable1_2020-11-07T10.44.4...</td>\n",
       "    </tr>\n",
       "    <tr>\n",
       "      <th>4</th>\n",
       "      <td>dataset/User22/276_Werable1_2020-11-07T10.55.2...</td>\n",
       "    </tr>\n",
       "  </tbody>\n",
       "</table>\n",
       "</div>"
      ],
      "text/plain": [
       "                                           full_path\n",
       "0  dataset/User22/272_Werable1_2020-11-07T10.25.2...\n",
       "1  dataset/User22/277_Werable1_2020-11-07T10.58.4...\n",
       "2  dataset/User22/273_Werable1_2020-11-07T10.29.4...\n",
       "3  dataset/User22/280_Werable1_2020-11-07T10.44.4...\n",
       "4  dataset/User22/276_Werable1_2020-11-07T10.55.2..."
      ]
     },
     "execution_count": 32,
     "metadata": {},
     "output_type": "execute_result"
    }
   ],
   "source": [
    "df.rename(columns={df.columns[0]: \"full_path\"}, inplace=True)\n",
    "df.head()"
   ]
  },
  {
   "cell_type": "code",
   "execution_count": 34,
   "id": "afa29202-e8e8-41b8-a756-c8ca9dc52ff2",
   "metadata": {},
   "outputs": [
    {
     "data": {
      "text/html": [
       "<div>\n",
       "<style scoped>\n",
       "    .dataframe tbody tr th:only-of-type {\n",
       "        vertical-align: middle;\n",
       "    }\n",
       "\n",
       "    .dataframe tbody tr th {\n",
       "        vertical-align: top;\n",
       "    }\n",
       "\n",
       "    .dataframe thead th {\n",
       "        text-align: right;\n",
       "    }\n",
       "</style>\n",
       "<table border=\"1\" class=\"dataframe\">\n",
       "  <thead>\n",
       "    <tr style=\"text-align: right;\">\n",
       "      <th></th>\n",
       "      <th>full_path</th>\n",
       "      <th>file_name</th>\n",
       "    </tr>\n",
       "  </thead>\n",
       "  <tbody>\n",
       "    <tr>\n",
       "      <th>0</th>\n",
       "      <td>dataset/User22/272_Werable1_2020-11-07T10.25.2...</td>\n",
       "      <td>272_Werable1_2020-11-07T10.25.22.955_F1E55E2FE...</td>\n",
       "    </tr>\n",
       "    <tr>\n",
       "      <th>1</th>\n",
       "      <td>dataset/User22/277_Werable1_2020-11-07T10.58.4...</td>\n",
       "      <td>277_Werable1_2020-11-07T10.58.42.895_F1E55E2FE...</td>\n",
       "    </tr>\n",
       "    <tr>\n",
       "      <th>2</th>\n",
       "      <td>dataset/User22/273_Werable1_2020-11-07T10.29.4...</td>\n",
       "      <td>273_Werable1_2020-11-07T10.29.47.662_F1E55E2FE...</td>\n",
       "    </tr>\n",
       "    <tr>\n",
       "      <th>3</th>\n",
       "      <td>dataset/User22/280_Werable1_2020-11-07T10.44.4...</td>\n",
       "      <td>280_Werable1_2020-11-07T10.44.47.493_F1E55E2FE...</td>\n",
       "    </tr>\n",
       "    <tr>\n",
       "      <th>4</th>\n",
       "      <td>dataset/User22/276_Werable1_2020-11-07T10.55.2...</td>\n",
       "      <td>276_Werable1_2020-11-07T10.55.27.209_F1E55E2FE...</td>\n",
       "    </tr>\n",
       "  </tbody>\n",
       "</table>\n",
       "</div>"
      ],
      "text/plain": [
       "                                           full_path  \\\n",
       "0  dataset/User22/272_Werable1_2020-11-07T10.25.2...   \n",
       "1  dataset/User22/277_Werable1_2020-11-07T10.58.4...   \n",
       "2  dataset/User22/273_Werable1_2020-11-07T10.29.4...   \n",
       "3  dataset/User22/280_Werable1_2020-11-07T10.44.4...   \n",
       "4  dataset/User22/276_Werable1_2020-11-07T10.55.2...   \n",
       "\n",
       "                                           file_name  \n",
       "0  272_Werable1_2020-11-07T10.25.22.955_F1E55E2FE...  \n",
       "1  277_Werable1_2020-11-07T10.58.42.895_F1E55E2FE...  \n",
       "2  273_Werable1_2020-11-07T10.29.47.662_F1E55E2FE...  \n",
       "3  280_Werable1_2020-11-07T10.44.47.493_F1E55E2FE...  \n",
       "4  276_Werable1_2020-11-07T10.55.27.209_F1E55E2FE...  "
      ]
     },
     "execution_count": 34,
     "metadata": {},
     "output_type": "execute_result"
    }
   ],
   "source": [
    "df['file_name'] = df['full_path'].apply(lambda x: os.path.basename(x))\n",
    "df.head()"
   ]
  },
  {
   "cell_type": "code",
   "execution_count": 59,
   "id": "08839e64-f45c-4db5-a91d-f11127f3252b",
   "metadata": {},
   "outputs": [],
   "source": [
    "def extract_experiment_id(filename):\n",
    "    \"\"\"\n",
    "    it takes in a string like 123Datafile_Gyroscope and returns the experiment id \"123\"\n",
    "    \"\"\"\n",
    "    match = re.match(r'(\\d+)', filename)\n",
    "    if match:\n",
    "        return match.group(1)\n",
    "    return None\n",
    "\n",
    "\n",
    "def get_activity_id_from_experiment_id(experiment_id: int) -> int:\n",
    "    \"\"\"\n",
    "    The function takes in a string (experiment_id),\n",
    "    and returns activity ID\n",
    "\n",
    "    In dataset2, the following is the mapping for experiment_id to activity_id\n",
    "    133 -> 1\n",
    "    134 -> 2\n",
    "    ....\n",
    "    148 -> 15\n",
    "    \"\"\"\n",
    "    \n",
    "    FIRST_EXPERIMENT = 133\n",
    "    NO_OF_ACTIVITIES = 15\n",
    "    \n",
    "    activity_id = (experiment_id - FIRST_EXPERIMENT) % NO_OF_ACTIVITIES + 1\n",
    "    return activity_id\n",
    "\n",
    "    133 - 133 % 15 = 0 + 1 "
   ]
  },
  {
   "cell_type": "code",
   "execution_count": 62,
   "id": "9f0c87e4-1aa2-4045-a36f-a7cef228812b",
   "metadata": {},
   "outputs": [],
   "source": [
    "df['sensor_type'] = df['file_name'].apply(lambda fn: fn.split(\"_\")[4])\n",
    "df['frequency'] = df['file_name'].apply(lambda fn: fn.split(\"_\")[5])\n",
    "df['experiment_id'] = df['file_name'].apply(lambda fn: int(extract_experiment_id(fn)))\n",
    "df['activity_no'] = df['experiment_id'].apply(lambda exp_id: get_activity_id_from_experiment_id(exp_id))"
   ]
  },
  {
   "cell_type": "code",
   "execution_count": 63,
   "id": "13efb576-01f4-4744-bdd0-c531f8cc6e8e",
   "metadata": {},
   "outputs": [
    {
     "data": {
      "text/html": [
       "<div>\n",
       "<style scoped>\n",
       "    .dataframe tbody tr th:only-of-type {\n",
       "        vertical-align: middle;\n",
       "    }\n",
       "\n",
       "    .dataframe tbody tr th {\n",
       "        vertical-align: top;\n",
       "    }\n",
       "\n",
       "    .dataframe thead th {\n",
       "        text-align: right;\n",
       "    }\n",
       "</style>\n",
       "<table border=\"1\" class=\"dataframe\">\n",
       "  <thead>\n",
       "    <tr style=\"text-align: right;\">\n",
       "      <th></th>\n",
       "      <th>full_path</th>\n",
       "      <th>file_name</th>\n",
       "      <th>sensor_type</th>\n",
       "      <th>frequency</th>\n",
       "      <th>experiment_id</th>\n",
       "      <th>activity_no</th>\n",
       "    </tr>\n",
       "  </thead>\n",
       "  <tbody>\n",
       "    <tr>\n",
       "      <th>0</th>\n",
       "      <td>dataset/User22/272_Werable1_2020-11-07T10.25.2...</td>\n",
       "      <td>272_Werable1_2020-11-07T10.25.22.955_F1E55E2FE...</td>\n",
       "      <td>Pressure</td>\n",
       "      <td>7.330Hz</td>\n",
       "      <td>272</td>\n",
       "      <td>5</td>\n",
       "    </tr>\n",
       "    <tr>\n",
       "      <th>1</th>\n",
       "      <td>dataset/User22/277_Werable1_2020-11-07T10.58.4...</td>\n",
       "      <td>277_Werable1_2020-11-07T10.58.42.895_F1E55E2FE...</td>\n",
       "      <td>Accelerometer</td>\n",
       "      <td>100.000Hz</td>\n",
       "      <td>277</td>\n",
       "      <td>10</td>\n",
       "    </tr>\n",
       "    <tr>\n",
       "      <th>2</th>\n",
       "      <td>dataset/User22/273_Werable1_2020-11-07T10.29.4...</td>\n",
       "      <td>273_Werable1_2020-11-07T10.29.47.662_F1E55E2FE...</td>\n",
       "      <td>Accelerometer</td>\n",
       "      <td>100.000Hz</td>\n",
       "      <td>273</td>\n",
       "      <td>6</td>\n",
       "    </tr>\n",
       "    <tr>\n",
       "      <th>3</th>\n",
       "      <td>dataset/User22/280_Werable1_2020-11-07T10.44.4...</td>\n",
       "      <td>280_Werable1_2020-11-07T10.44.47.493_F1E55E2FE...</td>\n",
       "      <td>Gyroscope</td>\n",
       "      <td>100.000Hz</td>\n",
       "      <td>280</td>\n",
       "      <td>13</td>\n",
       "    </tr>\n",
       "    <tr>\n",
       "      <th>4</th>\n",
       "      <td>dataset/User22/276_Werable1_2020-11-07T10.55.2...</td>\n",
       "      <td>276_Werable1_2020-11-07T10.55.27.209_F1E55E2FE...</td>\n",
       "      <td>Accelerometer</td>\n",
       "      <td>100.000Hz</td>\n",
       "      <td>276</td>\n",
       "      <td>9</td>\n",
       "    </tr>\n",
       "  </tbody>\n",
       "</table>\n",
       "</div>"
      ],
      "text/plain": [
       "                                           full_path  \\\n",
       "0  dataset/User22/272_Werable1_2020-11-07T10.25.2...   \n",
       "1  dataset/User22/277_Werable1_2020-11-07T10.58.4...   \n",
       "2  dataset/User22/273_Werable1_2020-11-07T10.29.4...   \n",
       "3  dataset/User22/280_Werable1_2020-11-07T10.44.4...   \n",
       "4  dataset/User22/276_Werable1_2020-11-07T10.55.2...   \n",
       "\n",
       "                                           file_name    sensor_type  \\\n",
       "0  272_Werable1_2020-11-07T10.25.22.955_F1E55E2FE...       Pressure   \n",
       "1  277_Werable1_2020-11-07T10.58.42.895_F1E55E2FE...  Accelerometer   \n",
       "2  273_Werable1_2020-11-07T10.29.47.662_F1E55E2FE...  Accelerometer   \n",
       "3  280_Werable1_2020-11-07T10.44.47.493_F1E55E2FE...      Gyroscope   \n",
       "4  276_Werable1_2020-11-07T10.55.27.209_F1E55E2FE...  Accelerometer   \n",
       "\n",
       "   frequency  experiment_id  activity_no  \n",
       "0    7.330Hz            272            5  \n",
       "1  100.000Hz            277           10  \n",
       "2  100.000Hz            273            6  \n",
       "3  100.000Hz            280           13  \n",
       "4  100.000Hz            276            9  "
      ]
     },
     "execution_count": 63,
     "metadata": {},
     "output_type": "execute_result"
    }
   ],
   "source": [
    "df.head()"
   ]
  }
 ],
 "metadata": {
  "kernelspec": {
   "display_name": "Python 3 (ipykernel)",
   "language": "python",
   "name": "python3"
  },
  "language_info": {
   "codemirror_mode": {
    "name": "ipython",
    "version": 3
   },
   "file_extension": ".py",
   "mimetype": "text/x-python",
   "name": "python",
   "nbconvert_exporter": "python",
   "pygments_lexer": "ipython3",
   "version": "3.12.3"
  }
 },
 "nbformat": 4,
 "nbformat_minor": 5
}
