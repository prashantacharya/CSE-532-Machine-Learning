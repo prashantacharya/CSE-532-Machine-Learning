{
 "cells": [
  {
   "cell_type": "code",
   "execution_count": 6,
   "metadata": {},
   "outputs": [],
   "source": [
    "import numpy as np\n",
    "import pandas as pd\n",
    "from sklearn.tree import DecisionTreeClassifier\n",
    "from sklearn.metrics import accuracy_score\n",
    "from sklearn.model_selection import train_test_split\n",
    "\n",
    "# Reading the data\n",
    "df = pd.read_csv('dataset/features-500.csv')\n"
   ]
  },
  {
   "cell_type": "code",
   "execution_count": 7,
   "metadata": {},
   "outputs": [],
   "source": [
    "df.fillna(df.mean(), inplace=True)"
   ]
  },
  {
   "cell_type": "code",
   "execution_count": 8,
   "metadata": {},
   "outputs": [
    {
     "name": "stdout",
     "output_type": "stream",
     "text": [
      "<class 'pandas.core.frame.DataFrame'>\n",
      "RangeIndex: 7424 entries, 0 to 7423\n",
      "Data columns (total 21 columns):\n",
      " #   Column            Non-Null Count  Dtype  \n",
      "---  ------            --------------  -----  \n",
      " 0   acc_x_mean        7424 non-null   float64\n",
      " 1   acc_y_mean        7424 non-null   float64\n",
      " 2   acc_z_mean        7424 non-null   float64\n",
      " 3   acc_x_var         7424 non-null   float64\n",
      " 4   acc_y_var         7424 non-null   float64\n",
      " 5   acc_z_var         7424 non-null   float64\n",
      " 6   acc_sum_mean      7424 non-null   float64\n",
      " 7   acc_sum_var       7424 non-null   float64\n",
      " 8   acc_abssum_mean   7424 non-null   float64\n",
      " 9   acc_abssum_var    7424 non-null   float64\n",
      " 10  gyro_x_mean       7424 non-null   float64\n",
      " 11  gyro_y_mean       7424 non-null   float64\n",
      " 12  gyro_z_mean       7424 non-null   float64\n",
      " 13  gyro_x_var        7424 non-null   float64\n",
      " 14  gyro_y_var        7424 non-null   float64\n",
      " 15  gyro_z_var        7424 non-null   float64\n",
      " 16  gyro_sum_mean     7424 non-null   float64\n",
      " 17  gyro_sum_var      7424 non-null   float64\n",
      " 18  gyro_abssum_mean  7424 non-null   float64\n",
      " 19  gyro_abssum_var   7424 non-null   float64\n",
      " 20  activity_id       7424 non-null   int64  \n",
      "dtypes: float64(20), int64(1)\n",
      "memory usage: 1.2 MB\n"
     ]
    }
   ],
   "source": [
    "df.info()"
   ]
  },
  {
   "cell_type": "code",
   "execution_count": 9,
   "metadata": {},
   "outputs": [
    {
     "name": "stdout",
     "output_type": "stream",
     "text": [
      "Accuracy: 0.7057239057239058\n"
     ]
    }
   ],
   "source": [
    "from sklearn.preprocessing import StandardScaler\n",
    "\n",
    "X = df.drop('activity_id', axis=1)\n",
    "y = df['activity_id']\n",
    "\n",
    "# scale X\n",
    "X_scaled = StandardScaler().fit_transform(X)\n",
    "\n",
    "X_train, X_test, y_train, y_test = train_test_split(X, y, test_size=0.2, random_state=0)\n",
    "\n",
    "# Training the model\n",
    "model = DecisionTreeClassifier()\n",
    "model.fit(X_train, y_train)\n",
    "\n",
    "# Making predictions\n",
    "y_pred = model.predict(X_test)\n",
    "\n",
    "# Calculating accuracy\n",
    "accuracy = accuracy_score(y_test, y_pred)\n",
    "print('Accuracy:', accuracy)"
   ]
  },
  {
   "cell_type": "code",
   "execution_count": 10,
   "metadata": {},
   "outputs": [
    {
     "name": "stdout",
     "output_type": "stream",
     "text": [
      "0.835016835016835\n"
     ]
    }
   ],
   "source": [
    "from sklearn.ensemble import RandomForestClassifier\n",
    "\n",
    "rf_classifier = RandomForestClassifier(n_estimators=100)\n",
    "rf_classifier.fit(X_train, y_train)\n",
    "\n",
    "y_pred = rf_classifier.predict(X_test)\n",
    "\n",
    "accuracy = rf_classifier.score(X_test, y_test)\n",
    "\n",
    "print(accuracy)"
   ]
  },
  {
   "cell_type": "code",
   "execution_count": null,
   "metadata": {},
   "outputs": [],
   "source": []
  },
  {
   "cell_type": "code",
   "execution_count": null,
   "metadata": {},
   "outputs": [],
   "source": []
  }
 ],
 "metadata": {
  "kernelspec": {
   "display_name": ".venv",
   "language": "python",
   "name": "python3"
  },
  "language_info": {
   "codemirror_mode": {
    "name": "ipython",
    "version": 3
   },
   "file_extension": ".py",
   "mimetype": "text/x-python",
   "name": "python",
   "nbconvert_exporter": "python",
   "pygments_lexer": "ipython3",
   "version": "3.12.3"
  }
 },
 "nbformat": 4,
 "nbformat_minor": 2
}
