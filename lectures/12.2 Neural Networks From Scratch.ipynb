{
 "cells": [
  {
   "cell_type": "code",
   "execution_count": 1,
   "metadata": {},
   "outputs": [],
   "source": [
    "import numpy as np\n",
    "# Define the inputs and output features for XOR\n",
    "\n",
    "X = np.array([[0, 0], [0, 1], [1, 0], [1, 1]])\n",
    "y = np.array([0, 1, 1, 0])"
   ]
  },
  {
   "cell_type": "code",
   "execution_count": 6,
   "metadata": {},
   "outputs": [],
   "source": [
    "# Define activation functions and their derivatives\n",
    "\n",
    "# Define the sigmoid function\n",
    "def sigmoid(x):\n",
    "    return 1 / (1 + np.exp(-x))\n",
    "\n",
    "# Define the derivative of the sigmoid function\n",
    "def sigmoid_derivative(x):\n",
    "    return x * (1 - x)\n",
    "\n",
    "# Define the ReLU function\n",
    "def relu(x):\n",
    "    return np.maximum(0, x)\n",
    "\n",
    "# Define the derivative of the ReLU function\n",
    "def relu_derivative(x):\n",
    "    return np.where(x > 0, 1, 0)"
   ]
  },
  {
   "cell_type": "code",
   "execution_count": 11,
   "metadata": {},
   "outputs": [],
   "source": [
    "# Initialize the weights and biases\n",
    "\n",
    "input_layer_neurons = 2\n",
    "hidden_layer_neurons = 2 \n",
    "output_layer_neurons = 1\n",
    "\n",
    "np.random.seed(0)\n",
    "hidden_weights = np.random.rand(input_layer_neurons, hidden_layer_neurons)\n",
    "hidden_biases = np.zeros((1, hidden_layer_neurons))\n",
    "output_weights = np.random.rand(hidden_layer_neurons, output_layer_neurons)\n",
    "output_biases = np.zeros((1, output_layer_neurons))"
   ]
  },
  {
   "cell_type": "code",
   "execution_count": 12,
   "metadata": {},
   "outputs": [],
   "source": [
    "# Define the learning rate\n",
    "learning_rate = 0.1"
   ]
  },
  {
   "cell_type": "code",
   "execution_count": null,
   "metadata": {},
   "outputs": [],
   "source": [
    "# Train the neural network\n",
    "epochs = 10000\n",
    "\n",
    "for epoch in range(epochs):\n",
    "    # Forward Propagation\n",
    "    hidden_layer_input = np.dot(X, hidden_weights) + hidden_biases\n",
    "    hidden_layer_output = relu(hidden_layer_input)\n",
    "    output_layer_input = np.dot(hidden_layer_output, output_weights) + output_biases\n",
    "    predicted_output = sigmoid(output_layer_input)\n",
    "    \n",
    "    # Calculate the loss\n",
    "    loss = predicted_output - y\n",
    "    mse_loss = np.mean(loss ** 2)\n",
    "    \n",
    "    # Backpropagation\n",
    "    output_error = y - predicted_output\n",
    "    output_delta = output_error * sigmoid_derivative(predicted_output)\n",
    "    hidden_error = output_delta.dot(output_weights.T)"
   ]
  }
 ],
 "metadata": {
  "kernelspec": {
   "display_name": ".venv",
   "language": "python",
   "name": "python3"
  },
  "language_info": {
   "codemirror_mode": {
    "name": "ipython",
    "version": 3
   },
   "file_extension": ".py",
   "mimetype": "text/x-python",
   "name": "python",
   "nbconvert_exporter": "python",
   "pygments_lexer": "ipython3",
   "version": "3.12.3"
  }
 },
 "nbformat": 4,
 "nbformat_minor": 2
}
