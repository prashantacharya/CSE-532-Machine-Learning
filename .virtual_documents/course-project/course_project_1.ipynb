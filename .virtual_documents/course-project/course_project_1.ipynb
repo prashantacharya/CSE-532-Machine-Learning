import re
import os
import numpy as np
import pandas as pd
import matplotlib.pyplot as plt


def list_folders_in_directory(directory: str) -> list:
    # Get a list of all items in the directory
    all_items = os.listdir(directory)

    # Filter out only directories
    folders = [item for item in all_items if os.path.isdir(os.path.join(directory, item)) and "User" in item]

    return folders


folders = list_folders_in_directory('dataset')


def extract_experiment_id(filename):
    """
    it takes in a string like 123Datafile_Gyroscope and returns the experiment id "123"
    """
    match = re.match(r'(\d+)', filename)
    if match:
        return match.group(1)
    return None


import json

def get_activity_id_from_experiment_id(experiment_id: str) -> int:
    """
    The function takes in a string (experiment_id),
    and returns activity ID

    It reads a json file called data.json on dataset directory and extracts activity_no for a given experiment_id
    """


    with open('dataset/data.json', 'r') as file:
        experiment_to_activity_json = json.load(file) 

    return experiment_to_activity_json[experiment_id]


def get_files_grouped_by_experiment(userId: str):
    """
    The function takes in a string userId and returns a dictionary of dictionary.

    The output is in the following structure
    {
        "133": {
            "accelerometer": "filename.csv",
            "gyroscope": "filename.csv"
        }
    }
    """
    all_files = os.listdir(f"dataset/{userId}")

    experiment_files = {}

    for file in all_files:
        sensor_type = ""
        if 'Accelerometer' in file:
            sensor_type = 'accelerometer'
        elif 'Gyroscope' in file:
            sensor_type = 'gyroscope'
        elif 'Magnetometer' in file:
            sensor_type = 'magnetometer'
        elif 'Pressure' in file:
            sensor_type = 'pressure'
        else:
            continue

        experiment_id = extract_experiment_id(file)

        if not experiment_id:
            continue

        if not experiment_files.get(experiment_id):
            experiment_files[experiment_id] = {}
        experiment_files[experiment_id][sensor_type] = file

    return experiment_files


import os.path

def does_file_exist(file_name: str) -> bool:
   return os.path.isfile(file_name) 


import pandas as pd

def get_processed_dataframe(user_ids: list):
    df = pd.DataFrame()

    for user_id in user_ids:
        experiment_files = get_files_grouped_by_experiment(user_id)

        for experiment_id, files in experiment_files.items():
            activity_id = get_activity_id_from_experiment_id(experiment_id)

            if files.get("accelerometer") == None or files.get("gyroscope") == None:
                continue
            
            accelerometer_fname = f'dataset/{user_id}/{files["accelerometer"]}'
            gyroscope_fname = f'dataset/{user_id}/{files["gyroscope"]}'

            # Read the accelerometer and gyroscope CSV files
            accelerometer_csv = pd.read_csv(accelerometer_fname)
            gyroscope_csv = pd.read_csv(gyroscope_fname)


            # Add suffixes to column names to differentiate between the two DataFrames
            accelerometer_csv = accelerometer_csv.add_suffix('_accelerometer')
            gyroscope_csv = gyroscope_csv.add_suffix('_gyroscope')

            # Concatenate both DataFrames along columns (assumes indices align)
            combined_df = pd.concat([accelerometer_csv, gyroscope_csv], axis=1)

            # Add the activity_id to the combined DataFrame
            combined_df["activity_id"] = activity_id

            # Append the combined DataFrame to the main DataFrame
            df = pd.concat([df, combined_df], ignore_index=True)

    return df



user_ids = list_folders_in_directory("dataset")
df = get_processed_dataframe(user_ids)
df.head()


len(df)



