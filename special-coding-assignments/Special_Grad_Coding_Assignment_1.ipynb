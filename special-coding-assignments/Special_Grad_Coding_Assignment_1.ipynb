{
 "cells": [
  {
   "cell_type": "markdown",
   "metadata": {
    "id": "ECQxBLErjjGj"
   },
   "source": [
    "# **Python Lab**\n",
    "\n",
    "The lab will walk you through the basics of Python.\n",
    "\n",
    "It is expected that you have seen Python or have some grasps of it.\n",
    "\n",
    "Here are some great tutorials on Python:\n",
    "\n",
    "https://www.youtube.com/watch?v=LHBE6Q9XlzI\n",
    "\n",
    "https://www.youtube.com/watch?v=kqtD5dpn9C8\n",
    "\n",
    "If you want more practice, zyBook has a great amount of interactive labs and quizzes for you to try."
   ]
  },
  {
   "cell_type": "markdown",
   "metadata": {
    "id": "7EGuM0bdkO_G"
   },
   "source": [
    "In order to execute the code in a cell, press:\n",
    "\n",
    "```\n",
    "shift + enter\n",
    "```\n",
    "\n"
   ]
  },
  {
   "cell_type": "markdown",
   "metadata": {
    "id": "NVIrBeDpa086"
   },
   "source": [
    "Save a copy to your drive"
   ]
  },
  {
   "cell_type": "code",
   "execution_count": 75,
   "metadata": {
    "id": "AgCwfZ4mnW0k"
   },
   "outputs": [],
   "source": [
    "# import useful libraries here\n",
    "import random\n",
    "import numpy as np\n",
    "import pandas as pd\n",
    "import matplotlib.pyplot as plt"
   ]
  },
  {
   "cell_type": "markdown",
   "metadata": {
    "id": "tGGz5RiGlgh6"
   },
   "source": [
    "# Exercises\n",
    "\n"
   ]
  },
  {
   "cell_type": "markdown",
   "metadata": {
    "id": "O9AMpdp8QqgA"
   },
   "source": [
    "Review the variables in Python."
   ]
  },
  {
   "cell_type": "code",
   "execution_count": 76,
   "metadata": {
    "colab": {
     "base_uri": "https://localhost:8080/"
    },
    "id": "IfuBSVYxqECc",
    "outputId": "57006d6d-8dc5-4142-b251-62e5679bb20c"
   },
   "outputs": [
    {
     "name": "stdout",
     "output_type": "stream",
     "text": [
      "Hello World! is of type <class 'str'>\n",
      "432 is of type <class 'int'>\n",
      "3.1415926 is of type <class 'float'>\n",
      "True is of type <class 'bool'>\n"
     ]
    }
   ],
   "source": [
    "x = \"Hello World!\"      # String\n",
    "y = 432                 # Integer\n",
    "z = 3.1415926           # Float\n",
    "is_online = True        # Boolean\n",
    "\n",
    "# type() can check the type of the variable\n",
    "print(f\"{x} is of type {type(x)}\")\n",
    "print(f\"{y} is of type {type(y)}\")\n",
    "print(f\"{z} is of type {type(z)}\")\n",
    "print(f\"{is_online} is of type {type(is_online)}\")"
   ]
  },
  {
   "cell_type": "code",
   "execution_count": 77,
   "metadata": {
    "colab": {
     "base_uri": "https://localhost:8080/"
    },
    "id": "oetVcsdPqbpI",
    "outputId": "043f5f2d-7eaa-424a-e6f3-31d5df98847f"
   },
   "outputs": [
    {
     "name": "stdout",
     "output_type": "stream",
     "text": [
      "123 is of type <class 'str'>\n",
      "123.0 is of type <class 'float'>\n"
     ]
    }
   ],
   "source": [
    "# You can type cast variables\n",
    "num = 123\n",
    "a = str(num)\n",
    "b = float(num)\n",
    "\n",
    "print(f\"{a} is of type {type(a)}\")\n",
    "print(f\"{b} is of type {type(b)}\")"
   ]
  },
  {
   "cell_type": "code",
   "execution_count": 78,
   "metadata": {
    "colab": {
     "base_uri": "https://localhost:8080/",
     "height": 55
    },
    "id": "mViZrtQQOdHu",
    "outputId": "96694128-a32f-4dcb-8e6c-596abbc0f6d7"
   },
   "outputs": [
    {
     "data": {
      "application/vnd.google.colaboratory.intrinsic+json": {
       "type": "string"
      },
      "text/plain": [
       "\"\\nRUBRIC: This question messes with the original rubric so I guess skip this\\n\\nI don't think anyone has screwed up here at all\\n\""
      ]
     },
     "execution_count": 78,
     "metadata": {},
     "output_type": "execute_result"
    }
   ],
   "source": [
    "\"\"\"\n",
    "RUBRIC: This question messes with the original rubric so I guess skip this\n",
    "\n",
    "I don't think anyone has screwed up here at all\n",
    "\"\"\""
   ]
  },
  {
   "cell_type": "code",
   "execution_count": 79,
   "metadata": {
    "colab": {
     "base_uri": "https://localhost:8080/"
    },
    "id": "Dxdixd_gjf3L",
    "outputId": "3687d6f2-5650-40dc-fe1c-c42414f37f7d"
   },
   "outputs": [
    {
     "name": "stdout",
     "output_type": "stream",
     "text": [
      "The type is: <class 'str'>\n",
      "The type is: <class 'int'>\n",
      "The type is: <class 'float'>\n",
      "The type is: <class 'bool'>\n",
      "The value is: 123, and the type is: <class 'int'>\n",
      "The value is: 456, and the type is: <class 'str'>\n",
      "The value is: 1, and the type is: <class 'int'>\n"
     ]
    }
   ],
   "source": [
    "# Recommend you use f-strings\n",
    "\n",
    "# Example: Create a string variable named 'greeting' with your own greeting message and print its type.\n",
    "greeting = \"Hello, World!\"\n",
    "print(f\"The type is: {type(greeting)}\")\n",
    "\n",
    "# Task 2: Create an integer variable named 'year' with the current year and print its type.\n",
    "year = 2024\n",
    "print(f\"The type is: {type(year)}\")\n",
    "\n",
    "# Task 3: Create a float variable named 'pi' with the value of pi (3.14 is ok) and print its type.\n",
    "pi = 3.14\n",
    "print(f\"The type is: {type(pi)}\")\n",
    "\n",
    "# Task 4: Create a boolean variable named 'is_learning' that represents if you are learning Python and print its type.\n",
    "is_learning = True\n",
    "print(f\"The type is: {type(is_learning)}\")\n",
    "\n",
    "# Task 5: Given the string '123', convert it to an integer and print its value and type.\n",
    "num_str = '123'\n",
    "num_int = int(num_str)\n",
    "print(f\"The value is: {num_int}, and the type is: {type(num_int)}\")\n",
    "\n",
    "# Task 6: Given the integer 456, convert it to a string and print its value and type.\n",
    "num_int = 456\n",
    "num_str = str(num_int)\n",
    "print(f\"The value is: {num_str}, and the type is: {type(num_str)}\")\n",
    "\n",
    "# Task 7: Given the boolean True, convert it to an integer and print its value and type.\n",
    "val = True\n",
    "val_int = int(val)\n",
    "print(f\"The value is: {val_int}, and the type is: {type(val_int)}\")"
   ]
  },
  {
   "cell_type": "markdown",
   "metadata": {
    "id": "ZbQPKvWMAz_t"
   },
   "source": [
    "## Basic Python"
   ]
  },
  {
   "cell_type": "markdown",
   "metadata": {
    "id": "_S5FPqQFA68y"
   },
   "source": [
    "### Q1: FizzBuzz\n",
    "Solve the FizzBuzz test.\n",
    "\n",
    "Given a number, check for the following rules:\n",
    "*   If the number is divisible by 3 print 'Fizz'.\n",
    "*   If the number is divisible by 5 print 'Buzz'.\n",
    "*   If the number is divisible by both 3 and 5 print 'FizzBuzz'."
   ]
  },
  {
   "cell_type": "code",
   "execution_count": 80,
   "metadata": {
    "colab": {
     "base_uri": "https://localhost:8080/",
     "height": 55
    },
    "id": "HhBUg9_gOyFc",
    "outputId": "3b466462-4aba-4f2b-ba6b-ba4abe5a99d6"
   },
   "outputs": [
    {
     "data": {
      "application/vnd.google.colaboratory.intrinsic+json": {
       "type": "string"
      },
      "text/plain": [
       "'\\nRUBRIC: 5pts\\n-1 pts: If printing/math/typo error but conceptually correct\\n-3 pts: If loop or if-else error but partially works\\n-5 pts: If wrong/ unattempted\\n'"
      ]
     },
     "execution_count": 80,
     "metadata": {},
     "output_type": "execute_result"
    }
   ],
   "source": [
    "\"\"\"\n",
    "RUBRIC: 5pts\n",
    "-1 pts: If printing/math/typo error but conceptually correct\n",
    "-3 pts: If loop or if-else error but partially works\n",
    "-5 pts: If wrong/ unattempted\n",
    "\"\"\""
   ]
  },
  {
   "cell_type": "code",
   "execution_count": 81,
   "metadata": {
    "id": "c2sa9P2nA5y4"
   },
   "outputs": [],
   "source": [
    "def fizz_buzz(num):\n",
    "  str = \"\"\n",
    "  if num % 3 == 0:\n",
    "    str += \"Fizz\"\n",
    "  if num % 5 == 0:\n",
    "    str += \"Buzz\"\n",
    "  if str == \"\":\n",
    "    str = num\n",
    "  print(str)"
   ]
  },
  {
   "cell_type": "code",
   "execution_count": 82,
   "metadata": {
    "colab": {
     "base_uri": "https://localhost:8080/"
    },
    "id": "55WJV1DNmueZ",
    "outputId": "4e5080a2-cd0e-4436-85a3-844cc368260d"
   },
   "outputs": [
    {
     "name": "stdout",
     "output_type": "stream",
     "text": [
      "Fizz\n",
      "2\n",
      "FizzBuzz\n",
      "Buzz\n"
     ]
    }
   ],
   "source": [
    "fizz_buzz(9)\n",
    "fizz_buzz(2)\n",
    "fizz_buzz(15)\n",
    "fizz_buzz(5)"
   ]
  },
  {
   "cell_type": "markdown",
   "metadata": {
    "id": "MMlLPCbhBnke"
   },
   "source": [
    "### Q2: Sorting Help\n",
    "You are given two arrays A and B. Sort the elements in A based on the values in B.\n",
    "\n",
    "Example: If A = [1,2,3], and B = [10, 5, 15], then sorted A = [2,1,3]"
   ]
  },
  {
   "cell_type": "code",
   "execution_count": 83,
   "metadata": {
    "colab": {
     "base_uri": "https://localhost:8080/",
     "height": 55
    },
    "id": "ed0nIUyCP0gn",
    "outputId": "b0c51f0b-53e6-4c35-8d9a-63ac332c73e0"
   },
   "outputs": [
    {
     "data": {
      "application/vnd.google.colaboratory.intrinsic+json": {
       "type": "string"
      },
      "text/plain": [
       "'\\nRUBRIC\\n\\n-4 pts: If hardcoded\\n-5 pts: If wrong or unattempted\\n'"
      ]
     },
     "execution_count": 83,
     "metadata": {},
     "output_type": "execute_result"
    }
   ],
   "source": [
    "\"\"\"\n",
    "RUBRIC\n",
    "\n",
    "-4 pts: If hardcoded\n",
    "-5 pts: If wrong or unattempted\n",
    "\"\"\""
   ]
  },
  {
   "cell_type": "code",
   "execution_count": 84,
   "metadata": {
    "colab": {
     "base_uri": "https://localhost:8080/"
    },
    "id": "VkDprhyqCb_X",
    "outputId": "3c0724d1-3466-48ba-8fef-c3e6fb7b5d38"
   },
   "outputs": [
    {
     "name": "stdout",
     "output_type": "stream",
     "text": [
      "[0, 1, 2] \n",
      "\n",
      "[249, 570, 565]\n"
     ]
    }
   ],
   "source": [
    "# Generates the arrays A and B\n",
    "size = 3\n",
    "A = list(range(size))\n",
    "print(A, '\\n')\n",
    "\n",
    "random.seed(100)\n",
    "B = [random.randint(100,1000) for _ in range(size)]\n",
    "print(B)\n"
   ]
  },
  {
   "cell_type": "code",
   "execution_count": 85,
   "metadata": {
    "id": "utWTZ22oUcCN"
   },
   "outputs": [],
   "source": [
    "def sort_A_based_on_B(A, B):\n",
    "  if len(A) != len(B):\n",
    "    print(\"Error: A and B must be the same length\")\n",
    "    return\n",
    "\n",
    "  for i in range(len(B)):\n",
    "    lowest_item_index = i\n",
    "\n",
    "    for j in range(i + 1, len(B)):\n",
    "      if B[j] < B[lowest_item_index]:\n",
    "        lowest_item_index = j\n",
    "\n",
    "    A[i], A[lowest_item_index] = A[lowest_item_index], A[i]\n",
    "    B[i], B[lowest_item_index] = B[lowest_item_index], B[i]\n",
    "\n",
    "  print(A)"
   ]
  },
  {
   "cell_type": "code",
   "execution_count": 86,
   "metadata": {
    "colab": {
     "base_uri": "https://localhost:8080/"
    },
    "id": "-q3rPCpboaQG",
    "outputId": "4c64692b-4d91-40e2-a09b-6e52932f0f71"
   },
   "outputs": [
    {
     "name": "stdout",
     "output_type": "stream",
     "text": [
      "[0, 2, 1]\n"
     ]
    }
   ],
   "source": [
    "sort_A_based_on_B(A, B)"
   ]
  },
  {
   "cell_type": "markdown",
   "metadata": {
    "id": "CFX9kVZ8EVaH"
   },
   "source": [
    "## Useful Libraries\n",
    "\n",
    "Numpy, Pandas, and Matplotlib"
   ]
  },
  {
   "cell_type": "markdown",
   "metadata": {
    "id": "Jetff0bVEYds"
   },
   "source": [
    "### Q3: Vector Operations\n",
    "You are given two vectors A and B. Perform the following operations\n",
    "1. A + B\n",
    "2. A - B\n",
    "3. A . B (dot product)\n",
    "4. A x B (cross product) - Do you need to transpose B?\n",
    "5. Normalize A\n",
    "\n",
    "To normalize, for each element subtract the mean and divide by the standard deviation\n",
    "\n",
    "$$\n",
    "x\\_normalized = \\frac{x_i - mean(x)}{std(x)}\n",
    "$$\n",
    "\n",
    "It is recommended that you use Numpy when possible."
   ]
  },
  {
   "cell_type": "code",
   "execution_count": 87,
   "metadata": {
    "colab": {
     "base_uri": "https://localhost:8080/"
    },
    "id": "PAyJQMrwFN6c",
    "outputId": "7f3e9f1c-b6e3-48cb-8353-b8bcc0aa2eb7"
   },
   "outputs": [
    {
     "name": "stdout",
     "output_type": "stream",
     "text": [
      "[2 4 8] [-1  1  3]\n"
     ]
    }
   ],
   "source": [
    "A = np.array([2,4,8])\n",
    "B = np.array([-1,1,3])\n",
    "\n",
    "print(A, B)"
   ]
  },
  {
   "cell_type": "code",
   "execution_count": 88,
   "metadata": {
    "colab": {
     "base_uri": "https://localhost:8080/",
     "height": 73
    },
    "id": "r0mlfEEyQL-d",
    "outputId": "b0baeb6a-277b-400f-92c3-0302a69fc21f"
   },
   "outputs": [
    {
     "data": {
      "application/vnd.google.colaboratory.intrinsic+json": {
       "type": "string"
      },
      "text/plain": [
       "'\\nRUBRIC: 1pt each part\\n\\nParts (a-d)\\n-1 pts: If wrong / unattempted\\n\\nPart e\\n-0.5 pts: If other normalization techniques used like np.linalg.norm\\n-1 pts: If wrong or unattempted (Just finding np.linalg.norm is incorrect, they must alteast compute the final vector)\\n'"
      ]
     },
     "execution_count": 88,
     "metadata": {},
     "output_type": "execute_result"
    }
   ],
   "source": [
    "\"\"\"\n",
    "RUBRIC: 1pt each part\n",
    "\n",
    "Parts (a-d)\n",
    "-1 pts: If wrong / unattempted\n",
    "\n",
    "Part e\n",
    "-0.5 pts: If other normalization techniques used like np.linalg.norm\n",
    "-1 pts: If wrong or unattempted (Just finding np.linalg.norm is incorrect, they must alteast compute the final vector)\n",
    "\"\"\"\n"
   ]
  },
  {
   "cell_type": "code",
   "execution_count": 89,
   "metadata": {
    "colab": {
     "base_uri": "https://localhost:8080/"
    },
    "id": "5TXAos38JmkM",
    "outputId": "f960d90e-41b3-4e94-96c3-5ddf0323ae63"
   },
   "outputs": [
    {
     "name": "stdout",
     "output_type": "stream",
     "text": [
      "[ 1  5 11]\n",
      "[3 3 5]\n",
      "26\n",
      "[  4 -14   6]\n",
      "[0.21821789 0.43643578 0.87287156]\n"
     ]
    }
   ],
   "source": [
    "# TODO: A + B\n",
    "sum_a_b = A + B\n",
    "print(sum_a_b)\n",
    "\n",
    "# TODO: A - B\n",
    "diff_a_b = A - B\n",
    "print(diff_a_b)\n",
    "\n",
    "# TODO: A . B (dot product)\n",
    "dot_a_b = np.dot(A, B)\n",
    "print(dot_a_b)\n",
    "\n",
    "# TODO: A x B (cross product)\n",
    "cross_a_b = np.cross(A, B)\n",
    "print(cross_a_b)\n",
    "\n",
    "# TODO: A normalize\n",
    "norm_a = A / np.linalg.norm(A)\n",
    "print(norm_a)"
   ]
  },
  {
   "cell_type": "markdown",
   "metadata": {
    "id": "RUl5X5x-KMTe"
   },
   "source": [
    "### Q4: Matrix Operations\n",
    "In ML, you will often perform the operation\n",
    "$$\n",
    "y = xW + b\n",
    "$$\n",
    "\n",
    "Here x is the input vector, W is the weight, and b is called the bias. Compute output y for the given x, W, and b.\n",
    "\n",
    "Please use numpy operations wherever possible"
   ]
  },
  {
   "cell_type": "markdown",
   "metadata": {
    "id": "fSTlrysOR6wy"
   },
   "source": [
    "$$\n",
    "\\begin{array}{ccc}\n",
    "x = \\begin{bmatrix}\n",
    "2 \\\\\n",
    "3 \\\\\n",
    "4\n",
    "\\end{bmatrix} &\n",
    "\\quad &\n",
    "W = \\begin{bmatrix}\n",
    "1 & 0 & -1 \\\\\n",
    "2 & 1 & 0 \\\\\n",
    "0 & -1 & 1\n",
    "\\end{bmatrix} &\n",
    "\\quad &\n",
    "b = \\begin{bmatrix}\n",
    "1 \\\\\n",
    "2 \\\\\n",
    "3\n",
    "\\end{bmatrix}\n",
    "\\end{array}\n",
    "$$\n"
   ]
  },
  {
   "cell_type": "code",
   "execution_count": 90,
   "metadata": {
    "id": "wLKST71YLE5y"
   },
   "outputs": [],
   "source": [
    "# INPUTS\n",
    "x = [\n",
    "    [2],\n",
    "    [3],\n",
    "    [4]\n",
    "]\n",
    "\n",
    "W = [\n",
    "    [1, 0, -1],\n",
    "    [2, 1, 0],\n",
    "    [0, -1, 1]\n",
    "]\n",
    "\n",
    "b = [\n",
    "    [1],\n",
    "    [2],\n",
    "    [3]\n",
    "]"
   ]
  },
  {
   "cell_type": "code",
   "execution_count": 91,
   "metadata": {
    "colab": {
     "base_uri": "https://localhost:8080/",
     "height": 55
    },
    "id": "80IYBXieLXiv",
    "outputId": "83cafa9a-27f8-4a44-82bd-9ebfe24878d0"
   },
   "outputs": [
    {
     "data": {
      "application/vnd.google.colaboratory.intrinsic+json": {
       "type": "string"
      },
      "text/plain": [
       "'\\n Matrix x is 3 x 1 and matrix W is 3 x 3.\\n Therefore, xW cannot be calculated.\\n y = np.dot(x, W) + B -> This throws an error\\n'"
      ]
     },
     "execution_count": 91,
     "metadata": {},
     "output_type": "execute_result"
    }
   ],
   "source": [
    "\"\"\"\n",
    " Matrix x is 3 x 1 and matrix W is 3 x 3.\n",
    " Therefore, xW cannot be calculated.\n",
    " y = np.dot(x, W) + B -> This throws an error\n",
    "\"\"\""
   ]
  },
  {
   "cell_type": "markdown",
   "metadata": {
    "id": "pogPnfBhLk9W"
   },
   "source": [
    "### Q5: Pandas\n",
    "We will use the Hawks dataset to answer the questions given below\n",
    "\n",
    "Here is the link to the dataset: https://raw.githubusercontent.com/vincentarelbundock/Rdatasets/master/csv/Stat2Data/Hawks.csv\n",
    "\n",
    "Please use numpy/pandas operations wherever possible"
   ]
  },
  {
   "cell_type": "code",
   "execution_count": 92,
   "metadata": {
    "colab": {
     "base_uri": "https://localhost:8080/",
     "height": 383
    },
    "id": "vrQUyqH4MO5d",
    "outputId": "443de112-c784-4732-a302-04089fe779b8"
   },
   "outputs": [
    {
     "data": {
      "application/vnd.google.colaboratory.intrinsic+json": {
       "summary": "{\n  \"name\": \"df\",\n  \"rows\": 908,\n  \"fields\": [\n    {\n      \"column\": \"rownames\",\n      \"properties\": {\n        \"dtype\": \"number\",\n        \"std\": 262,\n        \"min\": 1,\n        \"max\": 908,\n        \"num_unique_values\": 908,\n        \"samples\": [\n          866,\n          440,\n          343\n        ],\n        \"semantic_type\": \"\",\n        \"description\": \"\"\n      }\n    },\n    {\n      \"column\": \"Month\",\n      \"properties\": {\n        \"dtype\": \"number\",\n        \"std\": 0,\n        \"min\": 8,\n        \"max\": 11,\n        \"num_unique_values\": 4,\n        \"samples\": [\n          10,\n          8,\n          9\n        ],\n        \"semantic_type\": \"\",\n        \"description\": \"\"\n      }\n    },\n    {\n      \"column\": \"Day\",\n      \"properties\": {\n        \"dtype\": \"number\",\n        \"std\": 8,\n        \"min\": 1,\n        \"max\": 31,\n        \"num_unique_values\": 31,\n        \"samples\": [\n          18,\n          17,\n          4\n        ],\n        \"semantic_type\": \"\",\n        \"description\": \"\"\n      }\n    },\n    {\n      \"column\": \"Year\",\n      \"properties\": {\n        \"dtype\": \"number\",\n        \"std\": 3,\n        \"min\": 1992,\n        \"max\": 2003,\n        \"num_unique_values\": 12,\n        \"samples\": [\n          2002,\n          2001,\n          1992\n        ],\n        \"semantic_type\": \"\",\n        \"description\": \"\"\n      }\n    },\n    {\n      \"column\": \"CaptureTime\",\n      \"properties\": {\n        \"dtype\": \"category\",\n        \"num_unique_values\": 308,\n        \"samples\": [\n          \"12:28\",\n          \"12:30\",\n          \"9:02\"\n        ],\n        \"semantic_type\": \"\",\n        \"description\": \"\"\n      }\n    },\n    {\n      \"column\": \"ReleaseTime\",\n      \"properties\": {\n        \"dtype\": \"category\",\n        \"num_unique_values\": 59,\n        \"samples\": [\n          \" \",\n          \"10:20\",\n          \"11:07\"\n        ],\n        \"semantic_type\": \"\",\n        \"description\": \"\"\n      }\n    },\n    {\n      \"column\": \"BandNumber\",\n      \"properties\": {\n        \"dtype\": \"string\",\n        \"num_unique_values\": 907,\n        \"samples\": [\n          \"1142-19287\",\n          \"1387-19220\",\n          \"1387-92143\"\n        ],\n        \"semantic_type\": \"\",\n        \"description\": \"\"\n      }\n    },\n    {\n      \"column\": \"Species\",\n      \"properties\": {\n        \"dtype\": \"category\",\n        \"num_unique_values\": 3,\n        \"samples\": [\n          \"RT\",\n          \"CH\",\n          \"SS\"\n        ],\n        \"semantic_type\": \"\",\n        \"description\": \"\"\n      }\n    },\n    {\n      \"column\": \"Age\",\n      \"properties\": {\n        \"dtype\": \"category\",\n        \"num_unique_values\": 2,\n        \"samples\": [\n          \"A\",\n          \"I\"\n        ],\n        \"semantic_type\": \"\",\n        \"description\": \"\"\n      }\n    },\n    {\n      \"column\": \"Sex\",\n      \"properties\": {\n        \"dtype\": \"category\",\n        \"num_unique_values\": 2,\n        \"samples\": [\n          \"M\",\n          \"F\"\n        ],\n        \"semantic_type\": \"\",\n        \"description\": \"\"\n      }\n    },\n    {\n      \"column\": \"Wing\",\n      \"properties\": {\n        \"dtype\": \"number\",\n        \"std\": 95.27759052098286,\n        \"min\": 37.2,\n        \"max\": 480.0,\n        \"num_unique_values\": 184,\n        \"samples\": [\n          392.0,\n          241.0\n        ],\n        \"semantic_type\": \"\",\n        \"description\": \"\"\n      }\n    },\n    {\n      \"column\": \"Weight\",\n      \"properties\": {\n        \"dtype\": \"number\",\n        \"std\": 462.311759549796,\n        \"min\": 56.0,\n        \"max\": 2030.0,\n        \"num_unique_values\": 307,\n        \"samples\": [\n          1079.0,\n          1340.0\n        ],\n        \"semantic_type\": \"\",\n        \"description\": \"\"\n      }\n    },\n    {\n      \"column\": \"Culmen\",\n      \"properties\": {\n        \"dtype\": \"number\",\n        \"std\": 7.284175044974589,\n        \"min\": 8.6,\n        \"max\": 39.2,\n        \"num_unique_values\": 179,\n        \"samples\": [\n          27.4,\n          24.0\n        ],\n        \"semantic_type\": \"\",\n        \"description\": \"\"\n      }\n    },\n    {\n      \"column\": \"Hallux\",\n      \"properties\": {\n        \"dtype\": \"number\",\n        \"std\": 17.73470416986944,\n        \"min\": 9.5,\n        \"max\": 341.4,\n        \"num_unique_values\": 206,\n        \"samples\": [\n          26.9,\n          30.9\n        ],\n        \"semantic_type\": \"\",\n        \"description\": \"\"\n      }\n    },\n    {\n      \"column\": \"Tail\",\n      \"properties\": {\n        \"dtype\": \"number\",\n        \"std\": 36,\n        \"min\": 119,\n        \"max\": 288,\n        \"num_unique_values\": 128,\n        \"samples\": [\n          160,\n          229\n        ],\n        \"semantic_type\": \"\",\n        \"description\": \"\"\n      }\n    },\n    {\n      \"column\": \"StandardTail\",\n      \"properties\": {\n        \"dtype\": \"number\",\n        \"std\": 38.19775546343614,\n        \"min\": 115.0,\n        \"max\": 335.0,\n        \"num_unique_values\": 118,\n        \"samples\": [\n          198.0,\n          132.0\n        ],\n        \"semantic_type\": \"\",\n        \"description\": \"\"\n      }\n    },\n    {\n      \"column\": \"Tarsus\",\n      \"properties\": {\n        \"dtype\": \"number\",\n        \"std\": 17.26320390336073,\n        \"min\": 24.7,\n        \"max\": 94.0,\n        \"num_unique_values\": 67,\n        \"samples\": [\n          58.1,\n          82.8\n        ],\n        \"semantic_type\": \"\",\n        \"description\": \"\"\n      }\n    },\n    {\n      \"column\": \"WingPitFat\",\n      \"properties\": {\n        \"dtype\": \"number\",\n        \"std\": 0.878660199239704,\n        \"min\": 0.0,\n        \"max\": 3.0,\n        \"num_unique_values\": 4,\n        \"samples\": [\n          2.0,\n          3.0\n        ],\n        \"semantic_type\": \"\",\n        \"description\": \"\"\n      }\n    },\n    {\n      \"column\": \"KeelFat\",\n      \"properties\": {\n        \"dtype\": \"number\",\n        \"std\": 1.0440732105299648,\n        \"min\": 0.0,\n        \"max\": 4.0,\n        \"num_unique_values\": 8,\n        \"samples\": [\n          2.0,\n          2.5\n        ],\n        \"semantic_type\": \"\",\n        \"description\": \"\"\n      }\n    },\n    {\n      \"column\": \"Crop\",\n      \"properties\": {\n        \"dtype\": \"number\",\n        \"std\": 0.4615965977640482,\n        \"min\": 0.0,\n        \"max\": 5.0,\n        \"num_unique_values\": 11,\n        \"samples\": [\n          3.0,\n          0.0\n        ],\n        \"semantic_type\": \"\",\n        \"description\": \"\"\n      }\n    }\n  ]\n}",
       "type": "dataframe",
       "variable_name": "df"
      },
      "text/html": [
       "\n",
       "  <div id=\"df-5699d88b-f140-4595-8158-cb2d62591b6e\" class=\"colab-df-container\">\n",
       "    <div>\n",
       "<style scoped>\n",
       "    .dataframe tbody tr th:only-of-type {\n",
       "        vertical-align: middle;\n",
       "    }\n",
       "\n",
       "    .dataframe tbody tr th {\n",
       "        vertical-align: top;\n",
       "    }\n",
       "\n",
       "    .dataframe thead th {\n",
       "        text-align: right;\n",
       "    }\n",
       "</style>\n",
       "<table border=\"1\" class=\"dataframe\">\n",
       "  <thead>\n",
       "    <tr style=\"text-align: right;\">\n",
       "      <th></th>\n",
       "      <th>rownames</th>\n",
       "      <th>Month</th>\n",
       "      <th>Day</th>\n",
       "      <th>Year</th>\n",
       "      <th>CaptureTime</th>\n",
       "      <th>ReleaseTime</th>\n",
       "      <th>BandNumber</th>\n",
       "      <th>Species</th>\n",
       "      <th>Age</th>\n",
       "      <th>Sex</th>\n",
       "      <th>Wing</th>\n",
       "      <th>Weight</th>\n",
       "      <th>Culmen</th>\n",
       "      <th>Hallux</th>\n",
       "      <th>Tail</th>\n",
       "      <th>StandardTail</th>\n",
       "      <th>Tarsus</th>\n",
       "      <th>WingPitFat</th>\n",
       "      <th>KeelFat</th>\n",
       "      <th>Crop</th>\n",
       "    </tr>\n",
       "  </thead>\n",
       "  <tbody>\n",
       "    <tr>\n",
       "      <th>0</th>\n",
       "      <td>1</td>\n",
       "      <td>9</td>\n",
       "      <td>19</td>\n",
       "      <td>1992</td>\n",
       "      <td>13:30</td>\n",
       "      <td>NaN</td>\n",
       "      <td>877-76317</td>\n",
       "      <td>RT</td>\n",
       "      <td>I</td>\n",
       "      <td>NaN</td>\n",
       "      <td>385.0</td>\n",
       "      <td>920.0</td>\n",
       "      <td>25.7</td>\n",
       "      <td>30.1</td>\n",
       "      <td>219</td>\n",
       "      <td>NaN</td>\n",
       "      <td>NaN</td>\n",
       "      <td>NaN</td>\n",
       "      <td>NaN</td>\n",
       "      <td>NaN</td>\n",
       "    </tr>\n",
       "    <tr>\n",
       "      <th>1</th>\n",
       "      <td>2</td>\n",
       "      <td>9</td>\n",
       "      <td>22</td>\n",
       "      <td>1992</td>\n",
       "      <td>10:30</td>\n",
       "      <td></td>\n",
       "      <td>877-76318</td>\n",
       "      <td>RT</td>\n",
       "      <td>I</td>\n",
       "      <td>NaN</td>\n",
       "      <td>376.0</td>\n",
       "      <td>930.0</td>\n",
       "      <td>NaN</td>\n",
       "      <td>NaN</td>\n",
       "      <td>221</td>\n",
       "      <td>NaN</td>\n",
       "      <td>NaN</td>\n",
       "      <td>NaN</td>\n",
       "      <td>NaN</td>\n",
       "      <td>NaN</td>\n",
       "    </tr>\n",
       "    <tr>\n",
       "      <th>2</th>\n",
       "      <td>3</td>\n",
       "      <td>9</td>\n",
       "      <td>23</td>\n",
       "      <td>1992</td>\n",
       "      <td>12:45</td>\n",
       "      <td></td>\n",
       "      <td>877-76319</td>\n",
       "      <td>RT</td>\n",
       "      <td>I</td>\n",
       "      <td>NaN</td>\n",
       "      <td>381.0</td>\n",
       "      <td>990.0</td>\n",
       "      <td>26.7</td>\n",
       "      <td>31.3</td>\n",
       "      <td>235</td>\n",
       "      <td>NaN</td>\n",
       "      <td>NaN</td>\n",
       "      <td>NaN</td>\n",
       "      <td>NaN</td>\n",
       "      <td>NaN</td>\n",
       "    </tr>\n",
       "    <tr>\n",
       "      <th>3</th>\n",
       "      <td>4</td>\n",
       "      <td>9</td>\n",
       "      <td>23</td>\n",
       "      <td>1992</td>\n",
       "      <td>10:50</td>\n",
       "      <td></td>\n",
       "      <td>745-49508</td>\n",
       "      <td>CH</td>\n",
       "      <td>I</td>\n",
       "      <td>F</td>\n",
       "      <td>265.0</td>\n",
       "      <td>470.0</td>\n",
       "      <td>18.7</td>\n",
       "      <td>23.5</td>\n",
       "      <td>220</td>\n",
       "      <td>NaN</td>\n",
       "      <td>NaN</td>\n",
       "      <td>NaN</td>\n",
       "      <td>NaN</td>\n",
       "      <td>NaN</td>\n",
       "    </tr>\n",
       "    <tr>\n",
       "      <th>4</th>\n",
       "      <td>5</td>\n",
       "      <td>9</td>\n",
       "      <td>27</td>\n",
       "      <td>1992</td>\n",
       "      <td>11:15</td>\n",
       "      <td></td>\n",
       "      <td>1253-98801</td>\n",
       "      <td>SS</td>\n",
       "      <td>I</td>\n",
       "      <td>F</td>\n",
       "      <td>205.0</td>\n",
       "      <td>170.0</td>\n",
       "      <td>12.5</td>\n",
       "      <td>14.3</td>\n",
       "      <td>157</td>\n",
       "      <td>NaN</td>\n",
       "      <td>NaN</td>\n",
       "      <td>NaN</td>\n",
       "      <td>NaN</td>\n",
       "      <td>NaN</td>\n",
       "    </tr>\n",
       "    <tr>\n",
       "      <th>5</th>\n",
       "      <td>6</td>\n",
       "      <td>9</td>\n",
       "      <td>28</td>\n",
       "      <td>1992</td>\n",
       "      <td>11:25</td>\n",
       "      <td></td>\n",
       "      <td>1207-55910</td>\n",
       "      <td>RT</td>\n",
       "      <td>I</td>\n",
       "      <td>NaN</td>\n",
       "      <td>412.0</td>\n",
       "      <td>1090.0</td>\n",
       "      <td>28.5</td>\n",
       "      <td>32.2</td>\n",
       "      <td>230</td>\n",
       "      <td>NaN</td>\n",
       "      <td>NaN</td>\n",
       "      <td>NaN</td>\n",
       "      <td>NaN</td>\n",
       "      <td>NaN</td>\n",
       "    </tr>\n",
       "    <tr>\n",
       "      <th>6</th>\n",
       "      <td>7</td>\n",
       "      <td>9</td>\n",
       "      <td>28</td>\n",
       "      <td>1992</td>\n",
       "      <td>13:30</td>\n",
       "      <td></td>\n",
       "      <td>877-76320</td>\n",
       "      <td>RT</td>\n",
       "      <td>I</td>\n",
       "      <td>NaN</td>\n",
       "      <td>370.0</td>\n",
       "      <td>960.0</td>\n",
       "      <td>25.3</td>\n",
       "      <td>30.1</td>\n",
       "      <td>212</td>\n",
       "      <td>NaN</td>\n",
       "      <td>NaN</td>\n",
       "      <td>NaN</td>\n",
       "      <td>NaN</td>\n",
       "      <td>NaN</td>\n",
       "    </tr>\n",
       "    <tr>\n",
       "      <th>7</th>\n",
       "      <td>8</td>\n",
       "      <td>9</td>\n",
       "      <td>29</td>\n",
       "      <td>1992</td>\n",
       "      <td>11:45</td>\n",
       "      <td></td>\n",
       "      <td>877-76321</td>\n",
       "      <td>RT</td>\n",
       "      <td>A</td>\n",
       "      <td>NaN</td>\n",
       "      <td>375.0</td>\n",
       "      <td>855.0</td>\n",
       "      <td>27.2</td>\n",
       "      <td>30.0</td>\n",
       "      <td>243</td>\n",
       "      <td>NaN</td>\n",
       "      <td>NaN</td>\n",
       "      <td>NaN</td>\n",
       "      <td>NaN</td>\n",
       "      <td>NaN</td>\n",
       "    </tr>\n",
       "    <tr>\n",
       "      <th>8</th>\n",
       "      <td>9</td>\n",
       "      <td>9</td>\n",
       "      <td>29</td>\n",
       "      <td>1992</td>\n",
       "      <td>15:35</td>\n",
       "      <td></td>\n",
       "      <td>877-76322</td>\n",
       "      <td>RT</td>\n",
       "      <td>A</td>\n",
       "      <td>NaN</td>\n",
       "      <td>412.0</td>\n",
       "      <td>1210.0</td>\n",
       "      <td>29.3</td>\n",
       "      <td>31.3</td>\n",
       "      <td>210</td>\n",
       "      <td>NaN</td>\n",
       "      <td>NaN</td>\n",
       "      <td>NaN</td>\n",
       "      <td>NaN</td>\n",
       "      <td>NaN</td>\n",
       "    </tr>\n",
       "    <tr>\n",
       "      <th>9</th>\n",
       "      <td>10</td>\n",
       "      <td>9</td>\n",
       "      <td>30</td>\n",
       "      <td>1992</td>\n",
       "      <td>13:45</td>\n",
       "      <td></td>\n",
       "      <td>1207-55911</td>\n",
       "      <td>RT</td>\n",
       "      <td>I</td>\n",
       "      <td>NaN</td>\n",
       "      <td>405.0</td>\n",
       "      <td>1120.0</td>\n",
       "      <td>26.0</td>\n",
       "      <td>30.2</td>\n",
       "      <td>238</td>\n",
       "      <td>NaN</td>\n",
       "      <td>NaN</td>\n",
       "      <td>NaN</td>\n",
       "      <td>NaN</td>\n",
       "      <td>NaN</td>\n",
       "    </tr>\n",
       "  </tbody>\n",
       "</table>\n",
       "</div>\n",
       "    <div class=\"colab-df-buttons\">\n",
       "\n",
       "  <div class=\"colab-df-container\">\n",
       "    <button class=\"colab-df-convert\" onclick=\"convertToInteractive('df-5699d88b-f140-4595-8158-cb2d62591b6e')\"\n",
       "            title=\"Convert this dataframe to an interactive table.\"\n",
       "            style=\"display:none;\">\n",
       "\n",
       "  <svg xmlns=\"http://www.w3.org/2000/svg\" height=\"24px\" viewBox=\"0 -960 960 960\">\n",
       "    <path d=\"M120-120v-720h720v720H120Zm60-500h600v-160H180v160Zm220 220h160v-160H400v160Zm0 220h160v-160H400v160ZM180-400h160v-160H180v160Zm440 0h160v-160H620v160ZM180-180h160v-160H180v160Zm440 0h160v-160H620v160Z\"/>\n",
       "  </svg>\n",
       "    </button>\n",
       "\n",
       "  <style>\n",
       "    .colab-df-container {\n",
       "      display:flex;\n",
       "      gap: 12px;\n",
       "    }\n",
       "\n",
       "    .colab-df-convert {\n",
       "      background-color: #E8F0FE;\n",
       "      border: none;\n",
       "      border-radius: 50%;\n",
       "      cursor: pointer;\n",
       "      display: none;\n",
       "      fill: #1967D2;\n",
       "      height: 32px;\n",
       "      padding: 0 0 0 0;\n",
       "      width: 32px;\n",
       "    }\n",
       "\n",
       "    .colab-df-convert:hover {\n",
       "      background-color: #E2EBFA;\n",
       "      box-shadow: 0px 1px 2px rgba(60, 64, 67, 0.3), 0px 1px 3px 1px rgba(60, 64, 67, 0.15);\n",
       "      fill: #174EA6;\n",
       "    }\n",
       "\n",
       "    .colab-df-buttons div {\n",
       "      margin-bottom: 4px;\n",
       "    }\n",
       "\n",
       "    [theme=dark] .colab-df-convert {\n",
       "      background-color: #3B4455;\n",
       "      fill: #D2E3FC;\n",
       "    }\n",
       "\n",
       "    [theme=dark] .colab-df-convert:hover {\n",
       "      background-color: #434B5C;\n",
       "      box-shadow: 0px 1px 3px 1px rgba(0, 0, 0, 0.15);\n",
       "      filter: drop-shadow(0px 1px 2px rgba(0, 0, 0, 0.3));\n",
       "      fill: #FFFFFF;\n",
       "    }\n",
       "  </style>\n",
       "\n",
       "    <script>\n",
       "      const buttonEl =\n",
       "        document.querySelector('#df-5699d88b-f140-4595-8158-cb2d62591b6e button.colab-df-convert');\n",
       "      buttonEl.style.display =\n",
       "        google.colab.kernel.accessAllowed ? 'block' : 'none';\n",
       "\n",
       "      async function convertToInteractive(key) {\n",
       "        const element = document.querySelector('#df-5699d88b-f140-4595-8158-cb2d62591b6e');\n",
       "        const dataTable =\n",
       "          await google.colab.kernel.invokeFunction('convertToInteractive',\n",
       "                                                    [key], {});\n",
       "        if (!dataTable) return;\n",
       "\n",
       "        const docLinkHtml = 'Like what you see? Visit the ' +\n",
       "          '<a target=\"_blank\" href=https://colab.research.google.com/notebooks/data_table.ipynb>data table notebook</a>'\n",
       "          + ' to learn more about interactive tables.';\n",
       "        element.innerHTML = '';\n",
       "        dataTable['output_type'] = 'display_data';\n",
       "        await google.colab.output.renderOutput(dataTable, element);\n",
       "        const docLink = document.createElement('div');\n",
       "        docLink.innerHTML = docLinkHtml;\n",
       "        element.appendChild(docLink);\n",
       "      }\n",
       "    </script>\n",
       "  </div>\n",
       "\n",
       "\n",
       "<div id=\"df-848205a6-f3f3-4f30-848c-a3f91da345c7\">\n",
       "  <button class=\"colab-df-quickchart\" onclick=\"quickchart('df-848205a6-f3f3-4f30-848c-a3f91da345c7')\"\n",
       "            title=\"Suggest charts\"\n",
       "            style=\"display:none;\">\n",
       "\n",
       "<svg xmlns=\"http://www.w3.org/2000/svg\" height=\"24px\"viewBox=\"0 0 24 24\"\n",
       "     width=\"24px\">\n",
       "    <g>\n",
       "        <path d=\"M19 3H5c-1.1 0-2 .9-2 2v14c0 1.1.9 2 2 2h14c1.1 0 2-.9 2-2V5c0-1.1-.9-2-2-2zM9 17H7v-7h2v7zm4 0h-2V7h2v10zm4 0h-2v-4h2v4z\"/>\n",
       "    </g>\n",
       "</svg>\n",
       "  </button>\n",
       "\n",
       "<style>\n",
       "  .colab-df-quickchart {\n",
       "      --bg-color: #E8F0FE;\n",
       "      --fill-color: #1967D2;\n",
       "      --hover-bg-color: #E2EBFA;\n",
       "      --hover-fill-color: #174EA6;\n",
       "      --disabled-fill-color: #AAA;\n",
       "      --disabled-bg-color: #DDD;\n",
       "  }\n",
       "\n",
       "  [theme=dark] .colab-df-quickchart {\n",
       "      --bg-color: #3B4455;\n",
       "      --fill-color: #D2E3FC;\n",
       "      --hover-bg-color: #434B5C;\n",
       "      --hover-fill-color: #FFFFFF;\n",
       "      --disabled-bg-color: #3B4455;\n",
       "      --disabled-fill-color: #666;\n",
       "  }\n",
       "\n",
       "  .colab-df-quickchart {\n",
       "    background-color: var(--bg-color);\n",
       "    border: none;\n",
       "    border-radius: 50%;\n",
       "    cursor: pointer;\n",
       "    display: none;\n",
       "    fill: var(--fill-color);\n",
       "    height: 32px;\n",
       "    padding: 0;\n",
       "    width: 32px;\n",
       "  }\n",
       "\n",
       "  .colab-df-quickchart:hover {\n",
       "    background-color: var(--hover-bg-color);\n",
       "    box-shadow: 0 1px 2px rgba(60, 64, 67, 0.3), 0 1px 3px 1px rgba(60, 64, 67, 0.15);\n",
       "    fill: var(--button-hover-fill-color);\n",
       "  }\n",
       "\n",
       "  .colab-df-quickchart-complete:disabled,\n",
       "  .colab-df-quickchart-complete:disabled:hover {\n",
       "    background-color: var(--disabled-bg-color);\n",
       "    fill: var(--disabled-fill-color);\n",
       "    box-shadow: none;\n",
       "  }\n",
       "\n",
       "  .colab-df-spinner {\n",
       "    border: 2px solid var(--fill-color);\n",
       "    border-color: transparent;\n",
       "    border-bottom-color: var(--fill-color);\n",
       "    animation:\n",
       "      spin 1s steps(1) infinite;\n",
       "  }\n",
       "\n",
       "  @keyframes spin {\n",
       "    0% {\n",
       "      border-color: transparent;\n",
       "      border-bottom-color: var(--fill-color);\n",
       "      border-left-color: var(--fill-color);\n",
       "    }\n",
       "    20% {\n",
       "      border-color: transparent;\n",
       "      border-left-color: var(--fill-color);\n",
       "      border-top-color: var(--fill-color);\n",
       "    }\n",
       "    30% {\n",
       "      border-color: transparent;\n",
       "      border-left-color: var(--fill-color);\n",
       "      border-top-color: var(--fill-color);\n",
       "      border-right-color: var(--fill-color);\n",
       "    }\n",
       "    40% {\n",
       "      border-color: transparent;\n",
       "      border-right-color: var(--fill-color);\n",
       "      border-top-color: var(--fill-color);\n",
       "    }\n",
       "    60% {\n",
       "      border-color: transparent;\n",
       "      border-right-color: var(--fill-color);\n",
       "    }\n",
       "    80% {\n",
       "      border-color: transparent;\n",
       "      border-right-color: var(--fill-color);\n",
       "      border-bottom-color: var(--fill-color);\n",
       "    }\n",
       "    90% {\n",
       "      border-color: transparent;\n",
       "      border-bottom-color: var(--fill-color);\n",
       "    }\n",
       "  }\n",
       "</style>\n",
       "\n",
       "  <script>\n",
       "    async function quickchart(key) {\n",
       "      const quickchartButtonEl =\n",
       "        document.querySelector('#' + key + ' button');\n",
       "      quickchartButtonEl.disabled = true;  // To prevent multiple clicks.\n",
       "      quickchartButtonEl.classList.add('colab-df-spinner');\n",
       "      try {\n",
       "        const charts = await google.colab.kernel.invokeFunction(\n",
       "            'suggestCharts', [key], {});\n",
       "      } catch (error) {\n",
       "        console.error('Error during call to suggestCharts:', error);\n",
       "      }\n",
       "      quickchartButtonEl.classList.remove('colab-df-spinner');\n",
       "      quickchartButtonEl.classList.add('colab-df-quickchart-complete');\n",
       "    }\n",
       "    (() => {\n",
       "      let quickchartButtonEl =\n",
       "        document.querySelector('#df-848205a6-f3f3-4f30-848c-a3f91da345c7 button');\n",
       "      quickchartButtonEl.style.display =\n",
       "        google.colab.kernel.accessAllowed ? 'block' : 'none';\n",
       "    })();\n",
       "  </script>\n",
       "</div>\n",
       "\n",
       "    </div>\n",
       "  </div>\n"
      ],
      "text/plain": [
       "   rownames  Month  Day  Year CaptureTime ReleaseTime   BandNumber Species  \\\n",
       "0         1      9   19  1992       13:30         NaN    877-76317      RT   \n",
       "1         2      9   22  1992       10:30                877-76318      RT   \n",
       "2         3      9   23  1992       12:45                877-76319      RT   \n",
       "3         4      9   23  1992       10:50                745-49508      CH   \n",
       "4         5      9   27  1992       11:15               1253-98801      SS   \n",
       "5         6      9   28  1992       11:25              1207-55910       RT   \n",
       "6         7      9   28  1992       13:30                877-76320      RT   \n",
       "7         8      9   29  1992       11:45                877-76321      RT   \n",
       "8         9      9   29  1992       15:35                877-76322      RT   \n",
       "9        10      9   30  1992       13:45               1207-55911      RT   \n",
       "\n",
       "  Age  Sex   Wing  Weight  Culmen  Hallux  Tail  StandardTail  Tarsus  \\\n",
       "0   I  NaN  385.0   920.0    25.7    30.1   219           NaN     NaN   \n",
       "1   I  NaN  376.0   930.0     NaN     NaN   221           NaN     NaN   \n",
       "2   I  NaN  381.0   990.0    26.7    31.3   235           NaN     NaN   \n",
       "3   I    F  265.0   470.0    18.7    23.5   220           NaN     NaN   \n",
       "4   I    F  205.0   170.0    12.5    14.3   157           NaN     NaN   \n",
       "5   I  NaN  412.0  1090.0    28.5    32.2   230           NaN     NaN   \n",
       "6   I  NaN  370.0   960.0    25.3    30.1   212           NaN     NaN   \n",
       "7   A  NaN  375.0   855.0    27.2    30.0   243           NaN     NaN   \n",
       "8   A  NaN  412.0  1210.0    29.3    31.3   210           NaN     NaN   \n",
       "9   I  NaN  405.0  1120.0    26.0    30.2   238           NaN     NaN   \n",
       "\n",
       "   WingPitFat  KeelFat  Crop  \n",
       "0         NaN      NaN   NaN  \n",
       "1         NaN      NaN   NaN  \n",
       "2         NaN      NaN   NaN  \n",
       "3         NaN      NaN   NaN  \n",
       "4         NaN      NaN   NaN  \n",
       "5         NaN      NaN   NaN  \n",
       "6         NaN      NaN   NaN  \n",
       "7         NaN      NaN   NaN  \n",
       "8         NaN      NaN   NaN  \n",
       "9         NaN      NaN   NaN  "
      ]
     },
     "execution_count": 92,
     "metadata": {},
     "output_type": "execute_result"
    }
   ],
   "source": [
    "# 4.1: Display the first 10 rows of the dataframe\n",
    "\n",
    "# load the dataset\n",
    "df = pd.read_csv('https://raw.githubusercontent.com/vincentarelbundock/Rdatasets/master/csv/Stat2Data/Hawks.csv')\n",
    "\n",
    "df.head(10)"
   ]
  },
  {
   "cell_type": "code",
   "execution_count": 93,
   "metadata": {
    "id": "oXiDke3jM0vD"
   },
   "outputs": [],
   "source": [
    "# 4.2 Drop the 'rownames' and 'Releasetime' columns (use pd.drop)\n",
    "df.drop(['rownames', 'ReleaseTime'], axis=1, inplace=True)"
   ]
  },
  {
   "cell_type": "code",
   "execution_count": 94,
   "metadata": {
    "colab": {
     "base_uri": "https://localhost:8080/"
    },
    "id": "kDgZOfUPNHtH",
    "outputId": "9939fddc-c4e0-436c-fd3b-4089523a792d"
   },
   "outputs": [
    {
     "name": "stdout",
     "output_type": "stream",
     "text": [
      "['RT' 'CH' 'SS']\n",
      "There are 3 unique species.\n"
     ]
    }
   ],
   "source": [
    "# 4.3 How many different species are there? (use pd.unique)\n",
    "unique_species = df.Species.unique()\n",
    "\n",
    "print(unique_species)\n",
    "print(f\"There are {len(unique_species)} unique species.\")"
   ]
  },
  {
   "cell_type": "code",
   "execution_count": 95,
   "metadata": {
    "id": "uBqJ6SnkNSyN"
   },
   "outputs": [],
   "source": [
    "# 4.4 Drop the rows that have NaN 'Wing' values\n",
    "df.dropna(subset=['Wing'], inplace=True)"
   ]
  },
  {
   "cell_type": "code",
   "execution_count": 96,
   "metadata": {
    "colab": {
     "base_uri": "https://localhost:8080/",
     "height": 226
    },
    "id": "k3coslKXNkeQ",
    "outputId": "a42aaf3c-b351-4f1a-b39c-7b82cce795b4"
   },
   "outputs": [
    {
     "data": {
      "application/vnd.google.colaboratory.intrinsic+json": {
       "summary": "{\n  \"name\": \"df\",\n  \"rows\": 907,\n  \"fields\": [\n    {\n      \"column\": \"Month\",\n      \"properties\": {\n        \"dtype\": \"number\",\n        \"std\": 0,\n        \"min\": 8,\n        \"max\": 11,\n        \"num_unique_values\": 4,\n        \"samples\": [\n          10,\n          8,\n          9\n        ],\n        \"semantic_type\": \"\",\n        \"description\": \"\"\n      }\n    },\n    {\n      \"column\": \"Day\",\n      \"properties\": {\n        \"dtype\": \"number\",\n        \"std\": 8,\n        \"min\": 1,\n        \"max\": 31,\n        \"num_unique_values\": 31,\n        \"samples\": [\n          18,\n          17,\n          4\n        ],\n        \"semantic_type\": \"\",\n        \"description\": \"\"\n      }\n    },\n    {\n      \"column\": \"Year\",\n      \"properties\": {\n        \"dtype\": \"number\",\n        \"std\": 3,\n        \"min\": 1992,\n        \"max\": 2003,\n        \"num_unique_values\": 12,\n        \"samples\": [\n          2002,\n          2001,\n          1992\n        ],\n        \"semantic_type\": \"\",\n        \"description\": \"\"\n      }\n    },\n    {\n      \"column\": \"CaptureTime\",\n      \"properties\": {\n        \"dtype\": \"category\",\n        \"num_unique_values\": 308,\n        \"samples\": [\n          \"12:28\",\n          \"12:30\",\n          \"9:02\"\n        ],\n        \"semantic_type\": \"\",\n        \"description\": \"\"\n      }\n    },\n    {\n      \"column\": \"BandNumber\",\n      \"properties\": {\n        \"dtype\": \"string\",\n        \"num_unique_values\": 907,\n        \"samples\": [\n          \"1142-19287\",\n          \"1387-19220\",\n          \"1387-92143\"\n        ],\n        \"semantic_type\": \"\",\n        \"description\": \"\"\n      }\n    },\n    {\n      \"column\": \"Species\",\n      \"properties\": {\n        \"dtype\": \"category\",\n        \"num_unique_values\": 3,\n        \"samples\": [\n          \"RT\",\n          \"CH\",\n          \"SS\"\n        ],\n        \"semantic_type\": \"\",\n        \"description\": \"\"\n      }\n    },\n    {\n      \"column\": \"Age\",\n      \"properties\": {\n        \"dtype\": \"category\",\n        \"num_unique_values\": 2,\n        \"samples\": [\n          \"A\",\n          \"I\"\n        ],\n        \"semantic_type\": \"\",\n        \"description\": \"\"\n      }\n    },\n    {\n      \"column\": \"Sex\",\n      \"properties\": {\n        \"dtype\": \"category\",\n        \"num_unique_values\": 2,\n        \"samples\": [\n          \"M\",\n          \"F\"\n        ],\n        \"semantic_type\": \"\",\n        \"description\": \"\"\n      }\n    },\n    {\n      \"column\": \"Wing\",\n      \"properties\": {\n        \"dtype\": \"number\",\n        \"std\": 95.27759052098286,\n        \"min\": 37.2,\n        \"max\": 480.0,\n        \"num_unique_values\": 184,\n        \"samples\": [\n          392.0,\n          241.0\n        ],\n        \"semantic_type\": \"\",\n        \"description\": \"\"\n      }\n    },\n    {\n      \"column\": \"Weight\",\n      \"properties\": {\n        \"dtype\": \"number\",\n        \"std\": 462.4666304200449,\n        \"min\": 56.0,\n        \"max\": 2030.0,\n        \"num_unique_values\": 306,\n        \"samples\": [\n          1079.0,\n          917.0\n        ],\n        \"semantic_type\": \"\",\n        \"description\": \"\"\n      }\n    },\n    {\n      \"column\": \"Culmen\",\n      \"properties\": {\n        \"dtype\": \"number\",\n        \"std\": 7.286939914863291,\n        \"min\": 8.6,\n        \"max\": 39.2,\n        \"num_unique_values\": 178,\n        \"samples\": [\n          24.9,\n          25.2\n        ],\n        \"semantic_type\": \"\",\n        \"description\": \"\"\n      }\n    },\n    {\n      \"column\": \"Hallux\",\n      \"properties\": {\n        \"dtype\": \"number\",\n        \"std\": 17.743539554908814,\n        \"min\": 9.5,\n        \"max\": 341.4,\n        \"num_unique_values\": 206,\n        \"samples\": [\n          26.9,\n          30.9\n        ],\n        \"semantic_type\": \"\",\n        \"description\": \"\"\n      }\n    },\n    {\n      \"column\": \"Tail\",\n      \"properties\": {\n        \"dtype\": \"number\",\n        \"std\": 36,\n        \"min\": 119,\n        \"max\": 288,\n        \"num_unique_values\": 128,\n        \"samples\": [\n          160,\n          229\n        ],\n        \"semantic_type\": \"\",\n        \"description\": \"\"\n      }\n    },\n    {\n      \"column\": \"StandardTail\",\n      \"properties\": {\n        \"dtype\": \"number\",\n        \"std\": 38.19775546343613,\n        \"min\": 115.0,\n        \"max\": 335.0,\n        \"num_unique_values\": 118,\n        \"samples\": [\n          198.0,\n          132.0\n        ],\n        \"semantic_type\": \"\",\n        \"description\": \"\"\n      }\n    },\n    {\n      \"column\": \"Tarsus\",\n      \"properties\": {\n        \"dtype\": \"number\",\n        \"std\": 17.26320390336073,\n        \"min\": 24.7,\n        \"max\": 94.0,\n        \"num_unique_values\": 67,\n        \"samples\": [\n          58.1,\n          82.8\n        ],\n        \"semantic_type\": \"\",\n        \"description\": \"\"\n      }\n    },\n    {\n      \"column\": \"WingPitFat\",\n      \"properties\": {\n        \"dtype\": \"number\",\n        \"std\": 0.878660199239704,\n        \"min\": 0.0,\n        \"max\": 3.0,\n        \"num_unique_values\": 4,\n        \"samples\": [\n          2.0,\n          3.0\n        ],\n        \"semantic_type\": \"\",\n        \"description\": \"\"\n      }\n    },\n    {\n      \"column\": \"KeelFat\",\n      \"properties\": {\n        \"dtype\": \"number\",\n        \"std\": 1.0440732105299648,\n        \"min\": 0.0,\n        \"max\": 4.0,\n        \"num_unique_values\": 8,\n        \"samples\": [\n          2.0,\n          2.5\n        ],\n        \"semantic_type\": \"\",\n        \"description\": \"\"\n      }\n    },\n    {\n      \"column\": \"Crop\",\n      \"properties\": {\n        \"dtype\": \"number\",\n        \"std\": 0.4615965977640482,\n        \"min\": 0.0,\n        \"max\": 5.0,\n        \"num_unique_values\": 11,\n        \"samples\": [\n          3.0,\n          0.0\n        ],\n        \"semantic_type\": \"\",\n        \"description\": \"\"\n      }\n    },\n    {\n      \"column\": \"Normalized Wing\",\n      \"properties\": {\n        \"dtype\": \"number\",\n        \"std\": 1.0,\n        \"min\": -2.92238169222995,\n        \"max\": 1.725090998659339,\n        \"num_unique_values\": 184,\n        \"samples\": [\n          0.8014740230535182,\n          -0.7833687419064697\n        ],\n        \"semantic_type\": \"\",\n        \"description\": \"\"\n      }\n    }\n  ]\n}",
       "type": "dataframe",
       "variable_name": "df"
      },
      "text/html": [
       "\n",
       "  <div id=\"df-17f21423-a24f-4d79-9aeb-cd4d88095467\" class=\"colab-df-container\">\n",
       "    <div>\n",
       "<style scoped>\n",
       "    .dataframe tbody tr th:only-of-type {\n",
       "        vertical-align: middle;\n",
       "    }\n",
       "\n",
       "    .dataframe tbody tr th {\n",
       "        vertical-align: top;\n",
       "    }\n",
       "\n",
       "    .dataframe thead th {\n",
       "        text-align: right;\n",
       "    }\n",
       "</style>\n",
       "<table border=\"1\" class=\"dataframe\">\n",
       "  <thead>\n",
       "    <tr style=\"text-align: right;\">\n",
       "      <th></th>\n",
       "      <th>Month</th>\n",
       "      <th>Day</th>\n",
       "      <th>Year</th>\n",
       "      <th>CaptureTime</th>\n",
       "      <th>BandNumber</th>\n",
       "      <th>Species</th>\n",
       "      <th>Age</th>\n",
       "      <th>Sex</th>\n",
       "      <th>Wing</th>\n",
       "      <th>Weight</th>\n",
       "      <th>Culmen</th>\n",
       "      <th>Hallux</th>\n",
       "      <th>Tail</th>\n",
       "      <th>StandardTail</th>\n",
       "      <th>Tarsus</th>\n",
       "      <th>WingPitFat</th>\n",
       "      <th>KeelFat</th>\n",
       "      <th>Crop</th>\n",
       "      <th>Normalized Wing</th>\n",
       "    </tr>\n",
       "  </thead>\n",
       "  <tbody>\n",
       "    <tr>\n",
       "      <th>0</th>\n",
       "      <td>9</td>\n",
       "      <td>19</td>\n",
       "      <td>1992</td>\n",
       "      <td>13:30</td>\n",
       "      <td>877-76317</td>\n",
       "      <td>RT</td>\n",
       "      <td>I</td>\n",
       "      <td>NaN</td>\n",
       "      <td>385.0</td>\n",
       "      <td>920.0</td>\n",
       "      <td>25.7</td>\n",
       "      <td>30.1</td>\n",
       "      <td>219</td>\n",
       "      <td>NaN</td>\n",
       "      <td>NaN</td>\n",
       "      <td>NaN</td>\n",
       "      <td>NaN</td>\n",
       "      <td>NaN</td>\n",
       "      <td>0.728004</td>\n",
       "    </tr>\n",
       "    <tr>\n",
       "      <th>1</th>\n",
       "      <td>9</td>\n",
       "      <td>22</td>\n",
       "      <td>1992</td>\n",
       "      <td>10:30</td>\n",
       "      <td>877-76318</td>\n",
       "      <td>RT</td>\n",
       "      <td>I</td>\n",
       "      <td>NaN</td>\n",
       "      <td>376.0</td>\n",
       "      <td>930.0</td>\n",
       "      <td>NaN</td>\n",
       "      <td>NaN</td>\n",
       "      <td>221</td>\n",
       "      <td>NaN</td>\n",
       "      <td>NaN</td>\n",
       "      <td>NaN</td>\n",
       "      <td>NaN</td>\n",
       "      <td>NaN</td>\n",
       "      <td>0.633544</td>\n",
       "    </tr>\n",
       "    <tr>\n",
       "      <th>2</th>\n",
       "      <td>9</td>\n",
       "      <td>23</td>\n",
       "      <td>1992</td>\n",
       "      <td>12:45</td>\n",
       "      <td>877-76319</td>\n",
       "      <td>RT</td>\n",
       "      <td>I</td>\n",
       "      <td>NaN</td>\n",
       "      <td>381.0</td>\n",
       "      <td>990.0</td>\n",
       "      <td>26.7</td>\n",
       "      <td>31.3</td>\n",
       "      <td>235</td>\n",
       "      <td>NaN</td>\n",
       "      <td>NaN</td>\n",
       "      <td>NaN</td>\n",
       "      <td>NaN</td>\n",
       "      <td>NaN</td>\n",
       "      <td>0.686022</td>\n",
       "    </tr>\n",
       "    <tr>\n",
       "      <th>3</th>\n",
       "      <td>9</td>\n",
       "      <td>23</td>\n",
       "      <td>1992</td>\n",
       "      <td>10:50</td>\n",
       "      <td>745-49508</td>\n",
       "      <td>CH</td>\n",
       "      <td>I</td>\n",
       "      <td>F</td>\n",
       "      <td>265.0</td>\n",
       "      <td>470.0</td>\n",
       "      <td>18.7</td>\n",
       "      <td>23.5</td>\n",
       "      <td>220</td>\n",
       "      <td>NaN</td>\n",
       "      <td>NaN</td>\n",
       "      <td>NaN</td>\n",
       "      <td>NaN</td>\n",
       "      <td>NaN</td>\n",
       "      <td>-0.531473</td>\n",
       "    </tr>\n",
       "    <tr>\n",
       "      <th>4</th>\n",
       "      <td>9</td>\n",
       "      <td>27</td>\n",
       "      <td>1992</td>\n",
       "      <td>11:15</td>\n",
       "      <td>1253-98801</td>\n",
       "      <td>SS</td>\n",
       "      <td>I</td>\n",
       "      <td>F</td>\n",
       "      <td>205.0</td>\n",
       "      <td>170.0</td>\n",
       "      <td>12.5</td>\n",
       "      <td>14.3</td>\n",
       "      <td>157</td>\n",
       "      <td>NaN</td>\n",
       "      <td>NaN</td>\n",
       "      <td>NaN</td>\n",
       "      <td>NaN</td>\n",
       "      <td>NaN</td>\n",
       "      <td>-1.161212</td>\n",
       "    </tr>\n",
       "  </tbody>\n",
       "</table>\n",
       "</div>\n",
       "    <div class=\"colab-df-buttons\">\n",
       "\n",
       "  <div class=\"colab-df-container\">\n",
       "    <button class=\"colab-df-convert\" onclick=\"convertToInteractive('df-17f21423-a24f-4d79-9aeb-cd4d88095467')\"\n",
       "            title=\"Convert this dataframe to an interactive table.\"\n",
       "            style=\"display:none;\">\n",
       "\n",
       "  <svg xmlns=\"http://www.w3.org/2000/svg\" height=\"24px\" viewBox=\"0 -960 960 960\">\n",
       "    <path d=\"M120-120v-720h720v720H120Zm60-500h600v-160H180v160Zm220 220h160v-160H400v160Zm0 220h160v-160H400v160ZM180-400h160v-160H180v160Zm440 0h160v-160H620v160ZM180-180h160v-160H180v160Zm440 0h160v-160H620v160Z\"/>\n",
       "  </svg>\n",
       "    </button>\n",
       "\n",
       "  <style>\n",
       "    .colab-df-container {\n",
       "      display:flex;\n",
       "      gap: 12px;\n",
       "    }\n",
       "\n",
       "    .colab-df-convert {\n",
       "      background-color: #E8F0FE;\n",
       "      border: none;\n",
       "      border-radius: 50%;\n",
       "      cursor: pointer;\n",
       "      display: none;\n",
       "      fill: #1967D2;\n",
       "      height: 32px;\n",
       "      padding: 0 0 0 0;\n",
       "      width: 32px;\n",
       "    }\n",
       "\n",
       "    .colab-df-convert:hover {\n",
       "      background-color: #E2EBFA;\n",
       "      box-shadow: 0px 1px 2px rgba(60, 64, 67, 0.3), 0px 1px 3px 1px rgba(60, 64, 67, 0.15);\n",
       "      fill: #174EA6;\n",
       "    }\n",
       "\n",
       "    .colab-df-buttons div {\n",
       "      margin-bottom: 4px;\n",
       "    }\n",
       "\n",
       "    [theme=dark] .colab-df-convert {\n",
       "      background-color: #3B4455;\n",
       "      fill: #D2E3FC;\n",
       "    }\n",
       "\n",
       "    [theme=dark] .colab-df-convert:hover {\n",
       "      background-color: #434B5C;\n",
       "      box-shadow: 0px 1px 3px 1px rgba(0, 0, 0, 0.15);\n",
       "      filter: drop-shadow(0px 1px 2px rgba(0, 0, 0, 0.3));\n",
       "      fill: #FFFFFF;\n",
       "    }\n",
       "  </style>\n",
       "\n",
       "    <script>\n",
       "      const buttonEl =\n",
       "        document.querySelector('#df-17f21423-a24f-4d79-9aeb-cd4d88095467 button.colab-df-convert');\n",
       "      buttonEl.style.display =\n",
       "        google.colab.kernel.accessAllowed ? 'block' : 'none';\n",
       "\n",
       "      async function convertToInteractive(key) {\n",
       "        const element = document.querySelector('#df-17f21423-a24f-4d79-9aeb-cd4d88095467');\n",
       "        const dataTable =\n",
       "          await google.colab.kernel.invokeFunction('convertToInteractive',\n",
       "                                                    [key], {});\n",
       "        if (!dataTable) return;\n",
       "\n",
       "        const docLinkHtml = 'Like what you see? Visit the ' +\n",
       "          '<a target=\"_blank\" href=https://colab.research.google.com/notebooks/data_table.ipynb>data table notebook</a>'\n",
       "          + ' to learn more about interactive tables.';\n",
       "        element.innerHTML = '';\n",
       "        dataTable['output_type'] = 'display_data';\n",
       "        await google.colab.output.renderOutput(dataTable, element);\n",
       "        const docLink = document.createElement('div');\n",
       "        docLink.innerHTML = docLinkHtml;\n",
       "        element.appendChild(docLink);\n",
       "      }\n",
       "    </script>\n",
       "  </div>\n",
       "\n",
       "\n",
       "<div id=\"df-6524e155-11ec-4a2c-a8d6-4792efc01505\">\n",
       "  <button class=\"colab-df-quickchart\" onclick=\"quickchart('df-6524e155-11ec-4a2c-a8d6-4792efc01505')\"\n",
       "            title=\"Suggest charts\"\n",
       "            style=\"display:none;\">\n",
       "\n",
       "<svg xmlns=\"http://www.w3.org/2000/svg\" height=\"24px\"viewBox=\"0 0 24 24\"\n",
       "     width=\"24px\">\n",
       "    <g>\n",
       "        <path d=\"M19 3H5c-1.1 0-2 .9-2 2v14c0 1.1.9 2 2 2h14c1.1 0 2-.9 2-2V5c0-1.1-.9-2-2-2zM9 17H7v-7h2v7zm4 0h-2V7h2v10zm4 0h-2v-4h2v4z\"/>\n",
       "    </g>\n",
       "</svg>\n",
       "  </button>\n",
       "\n",
       "<style>\n",
       "  .colab-df-quickchart {\n",
       "      --bg-color: #E8F0FE;\n",
       "      --fill-color: #1967D2;\n",
       "      --hover-bg-color: #E2EBFA;\n",
       "      --hover-fill-color: #174EA6;\n",
       "      --disabled-fill-color: #AAA;\n",
       "      --disabled-bg-color: #DDD;\n",
       "  }\n",
       "\n",
       "  [theme=dark] .colab-df-quickchart {\n",
       "      --bg-color: #3B4455;\n",
       "      --fill-color: #D2E3FC;\n",
       "      --hover-bg-color: #434B5C;\n",
       "      --hover-fill-color: #FFFFFF;\n",
       "      --disabled-bg-color: #3B4455;\n",
       "      --disabled-fill-color: #666;\n",
       "  }\n",
       "\n",
       "  .colab-df-quickchart {\n",
       "    background-color: var(--bg-color);\n",
       "    border: none;\n",
       "    border-radius: 50%;\n",
       "    cursor: pointer;\n",
       "    display: none;\n",
       "    fill: var(--fill-color);\n",
       "    height: 32px;\n",
       "    padding: 0;\n",
       "    width: 32px;\n",
       "  }\n",
       "\n",
       "  .colab-df-quickchart:hover {\n",
       "    background-color: var(--hover-bg-color);\n",
       "    box-shadow: 0 1px 2px rgba(60, 64, 67, 0.3), 0 1px 3px 1px rgba(60, 64, 67, 0.15);\n",
       "    fill: var(--button-hover-fill-color);\n",
       "  }\n",
       "\n",
       "  .colab-df-quickchart-complete:disabled,\n",
       "  .colab-df-quickchart-complete:disabled:hover {\n",
       "    background-color: var(--disabled-bg-color);\n",
       "    fill: var(--disabled-fill-color);\n",
       "    box-shadow: none;\n",
       "  }\n",
       "\n",
       "  .colab-df-spinner {\n",
       "    border: 2px solid var(--fill-color);\n",
       "    border-color: transparent;\n",
       "    border-bottom-color: var(--fill-color);\n",
       "    animation:\n",
       "      spin 1s steps(1) infinite;\n",
       "  }\n",
       "\n",
       "  @keyframes spin {\n",
       "    0% {\n",
       "      border-color: transparent;\n",
       "      border-bottom-color: var(--fill-color);\n",
       "      border-left-color: var(--fill-color);\n",
       "    }\n",
       "    20% {\n",
       "      border-color: transparent;\n",
       "      border-left-color: var(--fill-color);\n",
       "      border-top-color: var(--fill-color);\n",
       "    }\n",
       "    30% {\n",
       "      border-color: transparent;\n",
       "      border-left-color: var(--fill-color);\n",
       "      border-top-color: var(--fill-color);\n",
       "      border-right-color: var(--fill-color);\n",
       "    }\n",
       "    40% {\n",
       "      border-color: transparent;\n",
       "      border-right-color: var(--fill-color);\n",
       "      border-top-color: var(--fill-color);\n",
       "    }\n",
       "    60% {\n",
       "      border-color: transparent;\n",
       "      border-right-color: var(--fill-color);\n",
       "    }\n",
       "    80% {\n",
       "      border-color: transparent;\n",
       "      border-right-color: var(--fill-color);\n",
       "      border-bottom-color: var(--fill-color);\n",
       "    }\n",
       "    90% {\n",
       "      border-color: transparent;\n",
       "      border-bottom-color: var(--fill-color);\n",
       "    }\n",
       "  }\n",
       "</style>\n",
       "\n",
       "  <script>\n",
       "    async function quickchart(key) {\n",
       "      const quickchartButtonEl =\n",
       "        document.querySelector('#' + key + ' button');\n",
       "      quickchartButtonEl.disabled = true;  // To prevent multiple clicks.\n",
       "      quickchartButtonEl.classList.add('colab-df-spinner');\n",
       "      try {\n",
       "        const charts = await google.colab.kernel.invokeFunction(\n",
       "            'suggestCharts', [key], {});\n",
       "      } catch (error) {\n",
       "        console.error('Error during call to suggestCharts:', error);\n",
       "      }\n",
       "      quickchartButtonEl.classList.remove('colab-df-spinner');\n",
       "      quickchartButtonEl.classList.add('colab-df-quickchart-complete');\n",
       "    }\n",
       "    (() => {\n",
       "      let quickchartButtonEl =\n",
       "        document.querySelector('#df-6524e155-11ec-4a2c-a8d6-4792efc01505 button');\n",
       "      quickchartButtonEl.style.display =\n",
       "        google.colab.kernel.accessAllowed ? 'block' : 'none';\n",
       "    })();\n",
       "  </script>\n",
       "</div>\n",
       "\n",
       "    </div>\n",
       "  </div>\n"
      ],
      "text/plain": [
       "   Month  Day  Year CaptureTime  BandNumber Species Age  Sex   Wing  Weight  \\\n",
       "0      9   19  1992       13:30   877-76317      RT   I  NaN  385.0   920.0   \n",
       "1      9   22  1992       10:30   877-76318      RT   I  NaN  376.0   930.0   \n",
       "2      9   23  1992       12:45   877-76319      RT   I  NaN  381.0   990.0   \n",
       "3      9   23  1992       10:50   745-49508      CH   I    F  265.0   470.0   \n",
       "4      9   27  1992       11:15  1253-98801      SS   I    F  205.0   170.0   \n",
       "\n",
       "   Culmen  Hallux  Tail  StandardTail  Tarsus  WingPitFat  KeelFat  Crop  \\\n",
       "0    25.7    30.1   219           NaN     NaN         NaN      NaN   NaN   \n",
       "1     NaN     NaN   221           NaN     NaN         NaN      NaN   NaN   \n",
       "2    26.7    31.3   235           NaN     NaN         NaN      NaN   NaN   \n",
       "3    18.7    23.5   220           NaN     NaN         NaN      NaN   NaN   \n",
       "4    12.5    14.3   157           NaN     NaN         NaN      NaN   NaN   \n",
       "\n",
       "   Normalized Wing  \n",
       "0         0.728004  \n",
       "1         0.633544  \n",
       "2         0.686022  \n",
       "3        -0.531473  \n",
       "4        -1.161212  "
      ]
     },
     "execution_count": 96,
     "metadata": {},
     "output_type": "execute_result"
    }
   ],
   "source": [
    "# 4.5 What is average wing span? Write a function that normalizes a column\n",
    "\n",
    "# calculate average wing span\n",
    "average_wing = df.Wing.mean()\n",
    "std_dev = df.Wing.std()\n",
    "\n",
    "def normalize(x, mean, stdev):\n",
    "  return (x - mean) / stdev\n",
    "\n",
    "# Now add a new column 'Normalized Wing' that has the normalized values of wingspan (use pd.apply)\n",
    "df['Normalized Wing'] = df.apply(lambda row: normalize(row.Wing, average_wing, std_dev), axis=1)\n",
    "df.head()"
   ]
  },
  {
   "cell_type": "markdown",
   "metadata": {
    "id": "YQ9rgdmiOq5h"
   },
   "source": [
    "### Q6: Matplotlib\n",
    "\n",
    "Below are two essential plotting exercises to get you comfortable with matplotlib."
   ]
  },
  {
   "cell_type": "code",
   "execution_count": 97,
   "metadata": {
    "colab": {
     "base_uri": "https://localhost:8080/",
     "height": 492
    },
    "id": "Zum1uTHMU9bz",
    "outputId": "4936b5e8-92ed-44a4-8350-0ca5e316692b"
   },
   "outputs": [
    {
     "data": {
      "image/png": "[encoded data removed]",
      "text/plain": [
       "<Figure size 640x480 with 1 Axes>"
      ]
     },
     "metadata": {},
     "output_type": "display_data"
    }
   ],
   "source": [
    "# Scatter plot\n",
    "\n",
    "# Using Hawks dataset above\n",
    "# TODO: Plot a scatter plot of 'Wing' vs 'Weight'\n",
    "# Wing on x-axis; Weight on y-axis\n",
    "# Set color, transparency, title, x-label, y-label, and grid.\n",
    "\n",
    "# Display the plot\n",
    "plt.scatter(df['Wing'], df['Weight'], c=\"#445588\", alpha=0.5)\n",
    "plt.title('Wing vs Weight')\n",
    "plt.xlabel('Wing')\n",
    "plt.ylabel('Weight')\n",
    "plt.grid()\n",
    "plt.show()"
   ]
  },
  {
   "cell_type": "markdown",
   "metadata": {
    "id": "xVsqWcMhX9lQ"
   },
   "source": [
    "This exercise below uses the Iris dataset, which can be found here: https://scikit-learn.org/stable/auto_examples/datasets/plot_iris_dataset.html\n",
    "\n",
    "This dataset is a classic in machine learning for small projects. It contains information about iris flowers!"
   ]
  },
  {
   "cell_type": "code",
   "execution_count": 98,
   "metadata": {
    "colab": {
     "base_uri": "https://localhost:8080/",
     "height": 723
    },
    "id": "01hvIi_OVbud",
    "outputId": "ab1e9bbb-5643-4119-9c53-984375d95eeb"
   },
   "outputs": [
    {
     "name": "stdout",
     "output_type": "stream",
     "text": [
      "   sepal length (cm)  sepal width (cm)  petal length (cm)  petal width (cm)  \\\n",
      "0                5.1               3.5                1.4               0.2   \n",
      "1                4.9               3.0                1.4               0.2   \n",
      "2                4.7               3.2                1.3               0.2   \n",
      "3                4.6               3.1                1.5               0.2   \n",
      "4                5.0               3.6                1.4               0.2   \n",
      "\n",
      "   target  \n",
      "0       0  \n",
      "1       0  \n",
      "2       0  \n",
      "3       0  \n",
      "4       0  \n"
     ]
    },
    {
     "data": {
      "image/png": "[encoded data removed]",
      "text/plain": [
       "<Figure size 640x480 with 1 Axes>"
      ]
     },
     "metadata": {},
     "output_type": "display_data"
    }
   ],
   "source": [
    "# Histogram\n",
    "\n",
    "# Import the dataset (use the link above)\n",
    "from sklearn.datasets import load_iris\n",
    "iris = load_iris()\n",
    "\n",
    "# Extract features for X and Y\n",
    "x = iris.data\n",
    "y = iris.target\n",
    "\n",
    "# Create a DataFrame\n",
    "iris_df = pd.DataFrame(data=x, columns=iris.feature_names)\n",
    "iris_df['target'] = y\n",
    "\n",
    "# TODO: Display the first few rows of the dataset\n",
    "print(iris_df.head())\n",
    "\n",
    "# TODO: Plot a histogram of sepal length\n",
    "plt.hist(iris_df['sepal length (cm)'], bins=10, color=\"#445588\")\n",
    "plt.title('Sepal Length Histogram')\n",
    "plt.xlabel('Sepal Length (cm)')\n",
    "plt.ylabel('Frequency')\n",
    "plt.grid()\n",
    "\n",
    "# Display the plot\n",
    "plt.show()"
   ]
  },
  {
   "cell_type": "code",
   "execution_count": 98,
   "metadata": {
    "id": "O2BSs83jPBE4"
   },
   "outputs": [],
   "source": []
  }
 ],
 "metadata": {
  "colab": {
   "provenance": []
  },
  "kernelspec": {
   "display_name": "Python 3 (ipykernel)",
   "language": "python",
   "name": "python3"
  },
  "language_info": {
   "codemirror_mode": {
    "name": "ipython",
    "version": 3
   },
   "file_extension": ".py",
   "mimetype": "text/x-python",
   "name": "python",
   "nbconvert_exporter": "python",
   "pygments_lexer": "ipython3",
   "version": "3.12.3"
  }
 },
 "nbformat": 4,
 "nbformat_minor": 4
}
