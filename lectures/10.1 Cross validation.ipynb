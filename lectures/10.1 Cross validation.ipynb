{
 "cells": [
  {
   "cell_type": "code",
   "execution_count": 1,
   "metadata": {},
   "outputs": [],
   "source": [
    "import numpy as np\n",
    "import pandas as pd\n",
    "import matplotlib.pyplot as plt\n",
    "from sklearn.datasets import load_iris\n",
    "from sklearn.model_selection import KFold, cross_val_score\n",
    "from sklearn.ensemble import RandomForestClassifier "
   ]
  },
  {
   "cell_type": "code",
   "execution_count": 2,
   "metadata": {},
   "outputs": [],
   "source": [
    "iris = load_iris()\n",
    "X, y = iris.data, iris.target"
   ]
  },
  {
   "cell_type": "code",
   "execution_count": 3,
   "metadata": {},
   "outputs": [],
   "source": [
    "model = RandomForestClassifier()"
   ]
  },
  {
   "cell_type": "code",
   "execution_count": 4,
   "metadata": {},
   "outputs": [
    {
     "name": "stdout",
     "output_type": "stream",
     "text": [
      "Cross validation scores: [1.         1.         1.         0.93333333 1.         0.86666667\n",
      " 0.86666667 1.         0.93333333 0.93333333]\n",
      "Mean cross validation score: 0.9533333333333334\n"
     ]
    }
   ],
   "source": [
    "k = 10\n",
    "kf = KFold(n_splits=k, shuffle=True, random_state=42)\n",
    "\n",
    "scores = cross_val_score(model, X, y, cv=kf)\n",
    "\n",
    "print(\"Cross validation scores:\", scores)\n",
    "print(\"Mean cross validation score:\", scores.mean())"
   ]
  },
  {
   "cell_type": "code",
   "execution_count": null,
   "metadata": {},
   "outputs": [
    {
     "name": "stdout",
     "output_type": "stream",
     "text": [
      "[1.         1.         1.         0.93333333 0.86666667 0.93333333\n",
      " 1.         1.         0.93333333 0.86666667]\n",
      "0.9533333333333334\n"
     ]
    }
   ],
   "source": [
    "from sklearn.model_selection import StratifiedKFold\n",
    "\n",
    "skf = StratifiedKFold(n_splits=10, shuffle=True, random_state=42)\n",
    "\n",
    "scores = cross_val_score(model, X, y, cv=skf, scoring='accuracy')\n",
    "print(scores)\n",
    "print(scores.mean())"
   ]
  },
  {
   "cell_type": "code",
   "execution_count": 6,
   "metadata": {},
   "outputs": [
    {
     "name": "stdout",
     "output_type": "stream",
     "text": [
      "[1. 1. 1. 1. 1. 1. 1. 1. 1. 1. 1. 1. 1. 1. 1. 1. 1. 1. 1. 1. 1. 1. 1. 1.\n",
      " 1. 1. 1. 1. 1. 1. 1. 1. 1. 1. 1. 1. 1. 1. 1. 1. 1. 1. 1. 1. 1. 1. 1. 1.\n",
      " 1. 1. 1. 1. 1. 1. 1. 1. 1. 1. 1. 1. 1. 1. 1. 1. 1. 1. 1. 1. 1. 1. 0. 1.\n",
      " 1. 1. 1. 1. 1. 0. 1. 1. 1. 1. 1. 0. 1. 1. 1. 1. 1. 1. 1. 1. 1. 1. 1. 1.\n",
      " 1. 1. 1. 1. 1. 1. 1. 1. 1. 1. 0. 1. 1. 1. 1. 1. 1. 1. 1. 1. 1. 1. 1. 0.\n",
      " 1. 1. 1. 1. 1. 1. 1. 1. 1. 1. 1. 1. 1. 0. 0. 1. 1. 1. 1. 1. 1. 1. 1. 1.\n",
      " 1. 1. 1. 1. 1. 1.]\n",
      "0.9533333333333334\n"
     ]
    }
   ],
   "source": [
    "from sklearn.model_selection import LeaveOneOut\n",
    "\n",
    "loo = LeaveOneOut()\n",
    "scores = cross_val_score(model, X, y, cv=loo)\n",
    "\n",
    "print(scores)\n",
    "print(scores.mean())"
   ]
  },
  {
   "cell_type": "code",
   "execution_count": 7,
   "metadata": {},
   "outputs": [
    {
     "name": "stdout",
     "output_type": "stream",
     "text": [
      "[1. 1. 1. ... 1. 1. 1.]\n",
      "0.9539149888143177\n"
     ]
    }
   ],
   "source": [
    "from sklearn.model_selection import LeavePOut\n",
    "\n",
    "lpo = LeavePOut(p = 2)\n",
    "scores = cross_val_score(model, X, y, cv=lpo, n_jobs=-1)\n",
    "print(scores)\n",
    "print(scores.mean())"
   ]
  },
  {
   "cell_type": "code",
   "execution_count": 8,
   "metadata": {},
   "outputs": [
    {
     "name": "stdout",
     "output_type": "stream",
     "text": [
      "Accuracy: 0.98, parameters: {'n_estimators': 100, 'max_depth': 3}\n",
      "Accuracy: 1.0, parameters: {'n_estimators': 100, 'max_depth': 5}\n",
      "Accuracy: 1.0, parameters: {'n_estimators': 100, 'max_depth': 7}\n"
     ]
    }
   ],
   "source": [
    "from sklearn.metrics import accuracy_score\n",
    "\n",
    "# Hyperparameter tuning using manual method\n",
    "\n",
    "\n",
    "parameters = [\n",
    "    {\"n_estimators\": 100, \"max_depth\": 3},\n",
    "    {\"n_estimators\": 100, \"max_depth\": 5},\n",
    "    {\"n_estimators\": 100, \"max_depth\": 7},\n",
    "]\n",
    "\n",
    "for param in parameters:\n",
    "    model.set_params(**param)\n",
    "    model.fit(X, y)\n",
    "\n",
    "    y_pred = model.predict(X)\n",
    "\n",
    "    accuracy = accuracy_score(y, y_pred)\n",
    "    print(f\"Accuracy: {accuracy}, parameters: {param}\")"
   ]
  },
  {
   "cell_type": "code",
   "execution_count": 9,
   "metadata": {},
   "outputs": [
    {
     "name": "stdout",
     "output_type": "stream",
     "text": [
      "Best parameters:  {'criterion': 'entropy', 'max_depth': 5, 'n_estimators': 10}\n",
      "Best score:  0.9666666666666668\n"
     ]
    },
    {
     "name": "stderr",
     "output_type": "stream",
     "text": [
      "/home/acharyp/Projects/ml-projects/.venv/lib/python3.12/site-packages/numpy/ma/core.py:2846: RuntimeWarning: invalid value encountered in cast\n",
      "  _data = np.array(data, dtype=dtype, copy=copy,\n"
     ]
    }
   ],
   "source": [
    "from sklearn.model_selection import GridSearchCV\n",
    "# Hyperparameter tuning using Grid Search\n",
    "\n",
    "param_grid = {\n",
    "    \"n_estimators\": [50, 100, 150],\n",
    "    \"max_depth\": [2, 3, 4],\n",
    "    'criterion': ['gini', 'entropy'],\n",
    "    'max_depth': range(5, 15, 5),\n",
    "    'n_estimators': range(10, 100, 10)\n",
    "}\n",
    "\n",
    "grid_search = GridSearchCV(model, param_grid=param_grid, cv=kf, n_jobs=-1)\n",
    "grid_search.fit(X, y)\n",
    "\n",
    "print(\"Best parameters: \", grid_search.best_params_)\n",
    "print(\"Best score: \", grid_search.best_score_)"
   ]
  },
  {
   "cell_type": "code",
   "execution_count": 10,
   "metadata": {},
   "outputs": [
    {
     "name": "stdout",
     "output_type": "stream",
     "text": [
      "Fitting 5 folds for each of 10 candidates, totalling 50 fits\n",
      "[CV] END ......criterion=gini, max_depth=20, n_estimators=40; total time=   0.0s\n",
      "[CV] END ......criterion=gini, max_depth=20, n_estimators=40; total time=   0.0s\n",
      "[CV] END ......criterion=gini, max_depth=20, n_estimators=40; total time=   0.0s\n",
      "[CV] END ......criterion=gini, max_depth=20, n_estimators=40; total time=   0.0s\n",
      "[CV] END ......criterion=gini, max_depth=20, n_estimators=40; total time=   0.0s\n",
      "[CV] END .....criterion=gini, max_depth=45, n_estimators=150; total time=   0.2s\n",
      "[CV] END .....criterion=gini, max_depth=45, n_estimators=150; total time=   0.3s\n",
      "[CV] END .....criterion=gini, max_depth=45, n_estimators=150; total time=   0.2s\n",
      "[CV] END .....criterion=gini, max_depth=45, n_estimators=150; total time=   0.2s\n",
      "[CV] END .....criterion=gini, max_depth=45, n_estimators=150; total time=   0.1s\n",
      "[CV] END ..criterion=entropy, max_depth=10, n_estimators=240; total time=   0.2s\n",
      "[CV] END ..criterion=entropy, max_depth=10, n_estimators=240; total time=   0.3s\n",
      "[CV] END ..criterion=entropy, max_depth=10, n_estimators=240; total time=   0.2s\n",
      "[CV] END ..criterion=entropy, max_depth=10, n_estimators=240; total time=   0.2s\n",
      "[CV] END ..criterion=entropy, max_depth=10, n_estimators=240; total time=   0.2s\n",
      "[CV] END ......criterion=gini, max_depth=15, n_estimators=40; total time=   0.0s\n",
      "[CV] END ......criterion=gini, max_depth=15, n_estimators=40; total time=   0.0s\n",
      "[CV] END ......criterion=gini, max_depth=15, n_estimators=40; total time=   0.0s\n",
      "[CV] END ......criterion=gini, max_depth=15, n_estimators=40; total time=   0.0s\n",
      "[CV] END ......criterion=gini, max_depth=15, n_estimators=40; total time=   0.0s\n",
      "[CV] END ..criterion=entropy, max_depth=15, n_estimators=460; total time=   0.3s\n",
      "[CV] END ..criterion=entropy, max_depth=15, n_estimators=460; total time=   0.3s\n",
      "[CV] END ..criterion=entropy, max_depth=15, n_estimators=460; total time=   0.5s\n",
      "[CV] END ..criterion=entropy, max_depth=15, n_estimators=460; total time=   0.5s\n",
      "[CV] END ..criterion=entropy, max_depth=15, n_estimators=460; total time=   0.4s\n",
      "[CV] END ..criterion=entropy, max_depth=30, n_estimators=160; total time=   0.1s\n",
      "[CV] END ..criterion=entropy, max_depth=30, n_estimators=160; total time=   0.1s\n",
      "[CV] END ..criterion=entropy, max_depth=30, n_estimators=160; total time=   0.1s\n",
      "[CV] END ..criterion=entropy, max_depth=30, n_estimators=160; total time=   0.1s\n",
      "[CV] END ..criterion=entropy, max_depth=30, n_estimators=160; total time=   0.1s\n",
      "[CV] END ..criterion=entropy, max_depth=40, n_estimators=320; total time=   0.4s\n",
      "[CV] END ..criterion=entropy, max_depth=40, n_estimators=320; total time=   0.3s\n",
      "[CV] END ..criterion=entropy, max_depth=40, n_estimators=320; total time=   0.3s\n",
      "[CV] END ..criterion=entropy, max_depth=40, n_estimators=320; total time=   0.3s\n",
      "[CV] END ..criterion=entropy, max_depth=40, n_estimators=320; total time=   0.3s\n",
      "[CV] END ...criterion=entropy, max_depth=45, n_estimators=10; total time=   0.0s\n",
      "[CV] END ...criterion=entropy, max_depth=45, n_estimators=10; total time=   0.0s\n",
      "[CV] END ...criterion=entropy, max_depth=45, n_estimators=10; total time=   0.0s\n",
      "[CV] END ...criterion=entropy, max_depth=45, n_estimators=10; total time=   0.0s\n",
      "[CV] END ...criterion=entropy, max_depth=45, n_estimators=10; total time=   0.0s\n",
      "[CV] END ......criterion=gini, max_depth=45, n_estimators=40; total time=   0.0s\n",
      "[CV] END ......criterion=gini, max_depth=45, n_estimators=40; total time=   0.0s\n",
      "[CV] END ......criterion=gini, max_depth=45, n_estimators=40; total time=   0.0s\n",
      "[CV] END ......criterion=gini, max_depth=45, n_estimators=40; total time=   0.0s\n",
      "[CV] END ......criterion=gini, max_depth=45, n_estimators=40; total time=   0.1s\n",
      "[CV] END ......criterion=gini, max_depth=5, n_estimators=320; total time=   0.3s\n",
      "[CV] END ......criterion=gini, max_depth=5, n_estimators=320; total time=   0.3s\n",
      "[CV] END ......criterion=gini, max_depth=5, n_estimators=320; total time=   0.3s\n",
      "[CV] END ......criterion=gini, max_depth=5, n_estimators=320; total time=   0.2s\n",
      "[CV] END ......criterion=gini, max_depth=5, n_estimators=320; total time=   0.2s\n",
      "{'n_estimators': 150, 'max_depth': 45, 'criterion': 'gini'}\n",
      "0.9666666666666668\n"
     ]
    }
   ],
   "source": [
    "# Hyperparameter tuning with random Randomized search technique\n",
    "\n",
    "from sklearn.model_selection import RandomizedSearchCV\n",
    "\n",
    "parameter_distribution = {\n",
    "    'criterion': ['gini', 'entropy'],\n",
    "    'max_depth': range(5, 50, 5),\n",
    "    'n_estimators': range(10, 500, 10)\n",
    "}\n",
    "\n",
    "randomized_search = RandomizedSearchCV(model, param_distributions=parameter_distribution, n_iter=10, cv=5, verbose=2, random_state=0)\n",
    "randomized_search.fit(X, y)\n",
    "\n",
    "print(randomized_search.best_params_)\n",
    "print(randomized_search.best_score_)"
   ]
  },
  {
   "cell_type": "markdown",
   "metadata": {},
   "source": [
    "### Cross validation"
   ]
  },
  {
   "cell_type": "code",
   "execution_count": null,
   "metadata": {},
   "outputs": [],
   "source": []
  },
  {
   "cell_type": "code",
   "execution_count": null,
   "metadata": {},
   "outputs": [],
   "source": []
  }
 ],
 "metadata": {
  "kernelspec": {
   "display_name": ".venv",
   "language": "python",
   "name": "python3"
  },
  "language_info": {
   "codemirror_mode": {
    "name": "ipython",
    "version": 3
   },
   "file_extension": ".py",
   "mimetype": "text/x-python",
   "name": "python",
   "nbconvert_exporter": "python",
   "pygments_lexer": "ipython3",
   "version": "3.12.3"
  }
 },
 "nbformat": 4,
 "nbformat_minor": 2
}
